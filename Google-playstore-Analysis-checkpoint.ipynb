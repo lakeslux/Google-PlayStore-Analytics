{
 "cells": [
  {
   "attachments": {},
   "cell_type": "markdown",
   "id": "9a2592a6-de78-488d-8edb-159b2de4c818",
   "metadata": {},
   "source": [
    "# Exploratory Data Analysis on Google Playstore App\n",
    "\n",
    "<img src=\"./image/image.webp\" width=\"1500\"/>\n",
    "\n",
    "### Project Information\n",
    "\n",
    "**Author Name**: Oyekanmi Lekan <br>\n",
    "**Email**: oyekanmilekan@gmail.com <br>\n",
    "**LinkedIn**: https://www.linkedin.com/in/olamilekan-oyekanmi/ <br>\n",
    "**Date**: January 24, 2025 <br>\n",
    "\n",
    "**Objective**\n",
    "\n",
    "Conduct an Exploratory Data Analysis (EDA) on the Google Play Store dataset to uncover patterns, trends, and anomalies. This will involve:\n",
    "\n",
    "- Data cleaning\n",
    "- Documenting key observations to facilitate actionable insights\n",
    "\n",
    "**Dataset**\n",
    "\n",
    "The Data Set was downloaded from Kaggle, from the following [Google Playstore Dataset](https://www.kaggle.com/datasets/gauthamp10/google-playstore-apps/data)\n",
    "\n",
    "**Analysis Questions**:\n",
    "1. What are the top 10 Categories that are installed from the Google Play Store ?\n",
    "\n",
    "2. Which are the Categories that are getting installed the most in top 10 Categories?\n",
    "\n",
    "3. What is the higest rated Category ?\n",
    "\n",
    "4. Which Category has the highest Paid and Free apps ?\n",
    "\n",
    "5. How does the size of the Application impacts the Installation ?\n",
    "\n",
    "6. What are the Top 5 Paid Apps based With highest ratings and installs ?\n",
    "\n",
    "7. What are the Top 5 Free Apps based With highest ratings and installs ?"
   ]
  },
  {
   "cell_type": "markdown",
   "id": "f7c5b762-d6d1-420c-975b-8d3e94983589",
   "metadata": {},
   "source": [
    "## 1.0 Import Libraries"
   ]
  },
  {
   "cell_type": "code",
   "execution_count": 1,
   "id": "60d4633b-c9ac-4663-9f5a-e8cee144c5be",
   "metadata": {},
   "outputs": [],
   "source": [
    "# import necessary libraries\n",
    "import numpy as np\n",
    "import pandas as pd\n",
    "import matplotlib.pyplot as plt\n",
    "import seaborn as sns\n",
    "\n",
    "# hide all warnings runtime\n",
    "import warnings \n",
    "warnings.filterwarnings(\"ignore\")\n",
    "\n",
    "# Use for plot to show in a jupyter notebook instead of opening a new window for the plot\n",
    "%matplotlib inline"
   ]
  },
  {
   "cell_type": "markdown",
   "id": "f1c4fa8e-4f44-4ae7-9df2-1549ad8898b6",
   "metadata": {},
   "source": [
    "## 2.0 Data Loading and Exploration\n",
    "↪ Load the csv file into a pandas dataframe\n",
    "\n",
    "↪ Explore the dataset to understand the structure and quality of the dataset\n"
   ]
  },
  {
   "cell_type": "code",
   "execution_count": 2,
   "id": "ce78ed00-b457-465b-b769-553718fdf7e0",
   "metadata": {},
   "outputs": [],
   "source": [
    "# link\n",
    "# pd.read_csv(r\"https://cdn.wsform.com/wp-content/uploads/2020/06/industry.csv\")"
   ]
  },
  {
   "cell_type": "code",
   "execution_count": 3,
   "id": "8a0188f0-0684-466a-9add-8db9cc70a91d",
   "metadata": {},
   "outputs": [
    {
     "data": {
      "text/html": [
       "<div>\n",
       "<style scoped>\n",
       "    .dataframe tbody tr th:only-of-type {\n",
       "        vertical-align: middle;\n",
       "    }\n",
       "\n",
       "    .dataframe tbody tr th {\n",
       "        vertical-align: top;\n",
       "    }\n",
       "\n",
       "    .dataframe thead th {\n",
       "        text-align: right;\n",
       "    }\n",
       "</style>\n",
       "<table border=\"1\" class=\"dataframe\">\n",
       "  <thead>\n",
       "    <tr style=\"text-align: right;\">\n",
       "      <th></th>\n",
       "      <th>App Name</th>\n",
       "      <th>App Id</th>\n",
       "      <th>Category</th>\n",
       "      <th>Rating</th>\n",
       "      <th>Rating Count</th>\n",
       "      <th>Installs</th>\n",
       "      <th>Minimum Installs</th>\n",
       "      <th>Maximum Installs</th>\n",
       "      <th>Free</th>\n",
       "      <th>Price</th>\n",
       "      <th>...</th>\n",
       "      <th>Developer Website</th>\n",
       "      <th>Developer Email</th>\n",
       "      <th>Released</th>\n",
       "      <th>Last Updated</th>\n",
       "      <th>Content Rating</th>\n",
       "      <th>Privacy Policy</th>\n",
       "      <th>Ad Supported</th>\n",
       "      <th>In App Purchases</th>\n",
       "      <th>Editors Choice</th>\n",
       "      <th>Scraped Time</th>\n",
       "    </tr>\n",
       "  </thead>\n",
       "  <tbody>\n",
       "    <tr>\n",
       "      <th>0</th>\n",
       "      <td>Gakondo</td>\n",
       "      <td>com.ishakwe.gakondo</td>\n",
       "      <td>Adventure</td>\n",
       "      <td>0.0</td>\n",
       "      <td>0.0</td>\n",
       "      <td>10+</td>\n",
       "      <td>10.0</td>\n",
       "      <td>15</td>\n",
       "      <td>True</td>\n",
       "      <td>0.0</td>\n",
       "      <td>...</td>\n",
       "      <td>https://beniyizibyose.tk/#/</td>\n",
       "      <td>jean21101999@gmail.com</td>\n",
       "      <td>Feb 26, 2020</td>\n",
       "      <td>Feb 26, 2020</td>\n",
       "      <td>Everyone</td>\n",
       "      <td>https://beniyizibyose.tk/projects/</td>\n",
       "      <td>False</td>\n",
       "      <td>False</td>\n",
       "      <td>False</td>\n",
       "      <td>2021-06-15 20:19:35</td>\n",
       "    </tr>\n",
       "    <tr>\n",
       "      <th>1</th>\n",
       "      <td>Ampere Battery Info</td>\n",
       "      <td>com.webserveis.batteryinfo</td>\n",
       "      <td>Tools</td>\n",
       "      <td>4.4</td>\n",
       "      <td>64.0</td>\n",
       "      <td>5,000+</td>\n",
       "      <td>5000.0</td>\n",
       "      <td>7662</td>\n",
       "      <td>True</td>\n",
       "      <td>0.0</td>\n",
       "      <td>...</td>\n",
       "      <td>https://webserveis.netlify.app/</td>\n",
       "      <td>webserveis@gmail.com</td>\n",
       "      <td>May 21, 2020</td>\n",
       "      <td>May 06, 2021</td>\n",
       "      <td>Everyone</td>\n",
       "      <td>https://dev4phones.wordpress.com/licencia-de-uso/</td>\n",
       "      <td>True</td>\n",
       "      <td>False</td>\n",
       "      <td>False</td>\n",
       "      <td>2021-06-15 20:19:35</td>\n",
       "    </tr>\n",
       "    <tr>\n",
       "      <th>2</th>\n",
       "      <td>Vibook</td>\n",
       "      <td>com.doantiepvien.crm</td>\n",
       "      <td>Productivity</td>\n",
       "      <td>0.0</td>\n",
       "      <td>0.0</td>\n",
       "      <td>50+</td>\n",
       "      <td>50.0</td>\n",
       "      <td>58</td>\n",
       "      <td>True</td>\n",
       "      <td>0.0</td>\n",
       "      <td>...</td>\n",
       "      <td>NaN</td>\n",
       "      <td>vnacrewit@gmail.com</td>\n",
       "      <td>Aug 9, 2019</td>\n",
       "      <td>Aug 19, 2019</td>\n",
       "      <td>Everyone</td>\n",
       "      <td>https://www.vietnamairlines.com/vn/en/terms-an...</td>\n",
       "      <td>False</td>\n",
       "      <td>False</td>\n",
       "      <td>False</td>\n",
       "      <td>2021-06-15 20:19:35</td>\n",
       "    </tr>\n",
       "    <tr>\n",
       "      <th>3</th>\n",
       "      <td>Smart City Trichy Public Service Vehicles 17UC...</td>\n",
       "      <td>cst.stJoseph.ug17ucs548</td>\n",
       "      <td>Communication</td>\n",
       "      <td>5.0</td>\n",
       "      <td>5.0</td>\n",
       "      <td>10+</td>\n",
       "      <td>10.0</td>\n",
       "      <td>19</td>\n",
       "      <td>True</td>\n",
       "      <td>0.0</td>\n",
       "      <td>...</td>\n",
       "      <td>http://www.climatesmarttech.com/</td>\n",
       "      <td>climatesmarttech2@gmail.com</td>\n",
       "      <td>Sep 10, 2018</td>\n",
       "      <td>Oct 13, 2018</td>\n",
       "      <td>Everyone</td>\n",
       "      <td>NaN</td>\n",
       "      <td>True</td>\n",
       "      <td>False</td>\n",
       "      <td>False</td>\n",
       "      <td>2021-06-15 20:19:35</td>\n",
       "    </tr>\n",
       "    <tr>\n",
       "      <th>4</th>\n",
       "      <td>GROW.me</td>\n",
       "      <td>com.horodyski.grower</td>\n",
       "      <td>Tools</td>\n",
       "      <td>0.0</td>\n",
       "      <td>0.0</td>\n",
       "      <td>100+</td>\n",
       "      <td>100.0</td>\n",
       "      <td>478</td>\n",
       "      <td>True</td>\n",
       "      <td>0.0</td>\n",
       "      <td>...</td>\n",
       "      <td>http://www.horodyski.com.pl</td>\n",
       "      <td>rmilekhorodyski@gmail.com</td>\n",
       "      <td>Feb 21, 2020</td>\n",
       "      <td>Nov 12, 2018</td>\n",
       "      <td>Everyone</td>\n",
       "      <td>http://www.horodyski.com.pl</td>\n",
       "      <td>False</td>\n",
       "      <td>False</td>\n",
       "      <td>False</td>\n",
       "      <td>2021-06-15 20:19:35</td>\n",
       "    </tr>\n",
       "  </tbody>\n",
       "</table>\n",
       "<p>5 rows × 24 columns</p>\n",
       "</div>"
      ],
      "text/plain": [
       "                                            App Name  \\\n",
       "0                                            Gakondo   \n",
       "1                                Ampere Battery Info   \n",
       "2                                             Vibook   \n",
       "3  Smart City Trichy Public Service Vehicles 17UC...   \n",
       "4                                            GROW.me   \n",
       "\n",
       "                       App Id       Category  Rating  Rating Count Installs  \\\n",
       "0         com.ishakwe.gakondo      Adventure     0.0           0.0      10+   \n",
       "1  com.webserveis.batteryinfo          Tools     4.4          64.0   5,000+   \n",
       "2        com.doantiepvien.crm   Productivity     0.0           0.0      50+   \n",
       "3     cst.stJoseph.ug17ucs548  Communication     5.0           5.0      10+   \n",
       "4        com.horodyski.grower          Tools     0.0           0.0     100+   \n",
       "\n",
       "   Minimum Installs  Maximum Installs  Free  Price  ...  \\\n",
       "0              10.0                15  True    0.0  ...   \n",
       "1            5000.0              7662  True    0.0  ...   \n",
       "2              50.0                58  True    0.0  ...   \n",
       "3              10.0                19  True    0.0  ...   \n",
       "4             100.0               478  True    0.0  ...   \n",
       "\n",
       "                  Developer Website              Developer Email  \\\n",
       "0       https://beniyizibyose.tk/#/       jean21101999@gmail.com   \n",
       "1   https://webserveis.netlify.app/         webserveis@gmail.com   \n",
       "2                               NaN          vnacrewit@gmail.com   \n",
       "3  http://www.climatesmarttech.com/  climatesmarttech2@gmail.com   \n",
       "4       http://www.horodyski.com.pl    rmilekhorodyski@gmail.com   \n",
       "\n",
       "       Released  Last Updated Content Rating  \\\n",
       "0  Feb 26, 2020  Feb 26, 2020       Everyone   \n",
       "1  May 21, 2020  May 06, 2021       Everyone   \n",
       "2   Aug 9, 2019  Aug 19, 2019       Everyone   \n",
       "3  Sep 10, 2018  Oct 13, 2018       Everyone   \n",
       "4  Feb 21, 2020  Nov 12, 2018       Everyone   \n",
       "\n",
       "                                      Privacy Policy Ad Supported  \\\n",
       "0                 https://beniyizibyose.tk/projects/        False   \n",
       "1  https://dev4phones.wordpress.com/licencia-de-uso/         True   \n",
       "2  https://www.vietnamairlines.com/vn/en/terms-an...        False   \n",
       "3                                                NaN         True   \n",
       "4                        http://www.horodyski.com.pl        False   \n",
       "\n",
       "  In App Purchases Editors Choice         Scraped Time  \n",
       "0            False          False  2021-06-15 20:19:35  \n",
       "1            False          False  2021-06-15 20:19:35  \n",
       "2            False          False  2021-06-15 20:19:35  \n",
       "3            False          False  2021-06-15 20:19:35  \n",
       "4            False          False  2021-06-15 20:19:35  \n",
       "\n",
       "[5 rows x 24 columns]"
      ]
     },
     "execution_count": 3,
     "metadata": {},
     "output_type": "execute_result"
    }
   ],
   "source": [
    "# load dataset\n",
    "df = pd.read_csv(\"Google-Playstore.csv\")\n",
    "df.head()"
   ]
  },
  {
   "cell_type": "markdown",
   "id": "47bca9e8-65b0-496c-a308-0b9d168e7657",
   "metadata": {},
   "source": [
    "* Let's start exploring the dataset by using different pandas function to get a general understanding of the data using functions like: `head`, `sample`, `shape`, `info`, `describe`, and some more"
   ]
  },
  {
   "cell_type": "code",
   "execution_count": 4,
   "id": "1b3fba39-5709-4af9-b3b5-e84cbfa68b7b",
   "metadata": {},
   "outputs": [
    {
     "data": {
      "text/html": [
       "<div>\n",
       "<style scoped>\n",
       "    .dataframe tbody tr th:only-of-type {\n",
       "        vertical-align: middle;\n",
       "    }\n",
       "\n",
       "    .dataframe tbody tr th {\n",
       "        vertical-align: top;\n",
       "    }\n",
       "\n",
       "    .dataframe thead th {\n",
       "        text-align: right;\n",
       "    }\n",
       "</style>\n",
       "<table border=\"1\" class=\"dataframe\">\n",
       "  <thead>\n",
       "    <tr style=\"text-align: right;\">\n",
       "      <th></th>\n",
       "      <th>App Name</th>\n",
       "      <th>App Id</th>\n",
       "      <th>Category</th>\n",
       "      <th>Rating</th>\n",
       "      <th>Rating Count</th>\n",
       "      <th>Installs</th>\n",
       "      <th>Minimum Installs</th>\n",
       "      <th>Maximum Installs</th>\n",
       "      <th>Free</th>\n",
       "      <th>Price</th>\n",
       "      <th>...</th>\n",
       "      <th>Developer Website</th>\n",
       "      <th>Developer Email</th>\n",
       "      <th>Released</th>\n",
       "      <th>Last Updated</th>\n",
       "      <th>Content Rating</th>\n",
       "      <th>Privacy Policy</th>\n",
       "      <th>Ad Supported</th>\n",
       "      <th>In App Purchases</th>\n",
       "      <th>Editors Choice</th>\n",
       "      <th>Scraped Time</th>\n",
       "    </tr>\n",
       "  </thead>\n",
       "  <tbody>\n",
       "    <tr>\n",
       "      <th>0</th>\n",
       "      <td>Gakondo</td>\n",
       "      <td>com.ishakwe.gakondo</td>\n",
       "      <td>Adventure</td>\n",
       "      <td>0.0</td>\n",
       "      <td>0.0</td>\n",
       "      <td>10+</td>\n",
       "      <td>10.0</td>\n",
       "      <td>15</td>\n",
       "      <td>True</td>\n",
       "      <td>0.0</td>\n",
       "      <td>...</td>\n",
       "      <td>https://beniyizibyose.tk/#/</td>\n",
       "      <td>jean21101999@gmail.com</td>\n",
       "      <td>Feb 26, 2020</td>\n",
       "      <td>Feb 26, 2020</td>\n",
       "      <td>Everyone</td>\n",
       "      <td>https://beniyizibyose.tk/projects/</td>\n",
       "      <td>False</td>\n",
       "      <td>False</td>\n",
       "      <td>False</td>\n",
       "      <td>2021-06-15 20:19:35</td>\n",
       "    </tr>\n",
       "    <tr>\n",
       "      <th>1</th>\n",
       "      <td>Ampere Battery Info</td>\n",
       "      <td>com.webserveis.batteryinfo</td>\n",
       "      <td>Tools</td>\n",
       "      <td>4.4</td>\n",
       "      <td>64.0</td>\n",
       "      <td>5,000+</td>\n",
       "      <td>5000.0</td>\n",
       "      <td>7662</td>\n",
       "      <td>True</td>\n",
       "      <td>0.0</td>\n",
       "      <td>...</td>\n",
       "      <td>https://webserveis.netlify.app/</td>\n",
       "      <td>webserveis@gmail.com</td>\n",
       "      <td>May 21, 2020</td>\n",
       "      <td>May 06, 2021</td>\n",
       "      <td>Everyone</td>\n",
       "      <td>https://dev4phones.wordpress.com/licencia-de-uso/</td>\n",
       "      <td>True</td>\n",
       "      <td>False</td>\n",
       "      <td>False</td>\n",
       "      <td>2021-06-15 20:19:35</td>\n",
       "    </tr>\n",
       "    <tr>\n",
       "      <th>2</th>\n",
       "      <td>Vibook</td>\n",
       "      <td>com.doantiepvien.crm</td>\n",
       "      <td>Productivity</td>\n",
       "      <td>0.0</td>\n",
       "      <td>0.0</td>\n",
       "      <td>50+</td>\n",
       "      <td>50.0</td>\n",
       "      <td>58</td>\n",
       "      <td>True</td>\n",
       "      <td>0.0</td>\n",
       "      <td>...</td>\n",
       "      <td>NaN</td>\n",
       "      <td>vnacrewit@gmail.com</td>\n",
       "      <td>Aug 9, 2019</td>\n",
       "      <td>Aug 19, 2019</td>\n",
       "      <td>Everyone</td>\n",
       "      <td>https://www.vietnamairlines.com/vn/en/terms-an...</td>\n",
       "      <td>False</td>\n",
       "      <td>False</td>\n",
       "      <td>False</td>\n",
       "      <td>2021-06-15 20:19:35</td>\n",
       "    </tr>\n",
       "    <tr>\n",
       "      <th>3</th>\n",
       "      <td>Smart City Trichy Public Service Vehicles 17UC...</td>\n",
       "      <td>cst.stJoseph.ug17ucs548</td>\n",
       "      <td>Communication</td>\n",
       "      <td>5.0</td>\n",
       "      <td>5.0</td>\n",
       "      <td>10+</td>\n",
       "      <td>10.0</td>\n",
       "      <td>19</td>\n",
       "      <td>True</td>\n",
       "      <td>0.0</td>\n",
       "      <td>...</td>\n",
       "      <td>http://www.climatesmarttech.com/</td>\n",
       "      <td>climatesmarttech2@gmail.com</td>\n",
       "      <td>Sep 10, 2018</td>\n",
       "      <td>Oct 13, 2018</td>\n",
       "      <td>Everyone</td>\n",
       "      <td>NaN</td>\n",
       "      <td>True</td>\n",
       "      <td>False</td>\n",
       "      <td>False</td>\n",
       "      <td>2021-06-15 20:19:35</td>\n",
       "    </tr>\n",
       "    <tr>\n",
       "      <th>4</th>\n",
       "      <td>GROW.me</td>\n",
       "      <td>com.horodyski.grower</td>\n",
       "      <td>Tools</td>\n",
       "      <td>0.0</td>\n",
       "      <td>0.0</td>\n",
       "      <td>100+</td>\n",
       "      <td>100.0</td>\n",
       "      <td>478</td>\n",
       "      <td>True</td>\n",
       "      <td>0.0</td>\n",
       "      <td>...</td>\n",
       "      <td>http://www.horodyski.com.pl</td>\n",
       "      <td>rmilekhorodyski@gmail.com</td>\n",
       "      <td>Feb 21, 2020</td>\n",
       "      <td>Nov 12, 2018</td>\n",
       "      <td>Everyone</td>\n",
       "      <td>http://www.horodyski.com.pl</td>\n",
       "      <td>False</td>\n",
       "      <td>False</td>\n",
       "      <td>False</td>\n",
       "      <td>2021-06-15 20:19:35</td>\n",
       "    </tr>\n",
       "  </tbody>\n",
       "</table>\n",
       "<p>5 rows × 24 columns</p>\n",
       "</div>"
      ],
      "text/plain": [
       "                                            App Name  \\\n",
       "0                                            Gakondo   \n",
       "1                                Ampere Battery Info   \n",
       "2                                             Vibook   \n",
       "3  Smart City Trichy Public Service Vehicles 17UC...   \n",
       "4                                            GROW.me   \n",
       "\n",
       "                       App Id       Category  Rating  Rating Count Installs  \\\n",
       "0         com.ishakwe.gakondo      Adventure     0.0           0.0      10+   \n",
       "1  com.webserveis.batteryinfo          Tools     4.4          64.0   5,000+   \n",
       "2        com.doantiepvien.crm   Productivity     0.0           0.0      50+   \n",
       "3     cst.stJoseph.ug17ucs548  Communication     5.0           5.0      10+   \n",
       "4        com.horodyski.grower          Tools     0.0           0.0     100+   \n",
       "\n",
       "   Minimum Installs  Maximum Installs  Free  Price  ...  \\\n",
       "0              10.0                15  True    0.0  ...   \n",
       "1            5000.0              7662  True    0.0  ...   \n",
       "2              50.0                58  True    0.0  ...   \n",
       "3              10.0                19  True    0.0  ...   \n",
       "4             100.0               478  True    0.0  ...   \n",
       "\n",
       "                  Developer Website              Developer Email  \\\n",
       "0       https://beniyizibyose.tk/#/       jean21101999@gmail.com   \n",
       "1   https://webserveis.netlify.app/         webserveis@gmail.com   \n",
       "2                               NaN          vnacrewit@gmail.com   \n",
       "3  http://www.climatesmarttech.com/  climatesmarttech2@gmail.com   \n",
       "4       http://www.horodyski.com.pl    rmilekhorodyski@gmail.com   \n",
       "\n",
       "       Released  Last Updated Content Rating  \\\n",
       "0  Feb 26, 2020  Feb 26, 2020       Everyone   \n",
       "1  May 21, 2020  May 06, 2021       Everyone   \n",
       "2   Aug 9, 2019  Aug 19, 2019       Everyone   \n",
       "3  Sep 10, 2018  Oct 13, 2018       Everyone   \n",
       "4  Feb 21, 2020  Nov 12, 2018       Everyone   \n",
       "\n",
       "                                      Privacy Policy Ad Supported  \\\n",
       "0                 https://beniyizibyose.tk/projects/        False   \n",
       "1  https://dev4phones.wordpress.com/licencia-de-uso/         True   \n",
       "2  https://www.vietnamairlines.com/vn/en/terms-an...        False   \n",
       "3                                                NaN         True   \n",
       "4                        http://www.horodyski.com.pl        False   \n",
       "\n",
       "  In App Purchases Editors Choice         Scraped Time  \n",
       "0            False          False  2021-06-15 20:19:35  \n",
       "1            False          False  2021-06-15 20:19:35  \n",
       "2            False          False  2021-06-15 20:19:35  \n",
       "3            False          False  2021-06-15 20:19:35  \n",
       "4            False          False  2021-06-15 20:19:35  \n",
       "\n",
       "[5 rows x 24 columns]"
      ]
     },
     "execution_count": 4,
     "metadata": {},
     "output_type": "execute_result"
    }
   ],
   "source": [
    "# Display the first five rows of the DataFrame\n",
    "df.head()"
   ]
  },
  {
   "cell_type": "code",
   "execution_count": 5,
   "id": "4d518f27-d138-44a0-9981-a64ae203e38d",
   "metadata": {},
   "outputs": [
    {
     "data": {
      "text/html": [
       "<div>\n",
       "<style scoped>\n",
       "    .dataframe tbody tr th:only-of-type {\n",
       "        vertical-align: middle;\n",
       "    }\n",
       "\n",
       "    .dataframe tbody tr th {\n",
       "        vertical-align: top;\n",
       "    }\n",
       "\n",
       "    .dataframe thead th {\n",
       "        text-align: right;\n",
       "    }\n",
       "</style>\n",
       "<table border=\"1\" class=\"dataframe\">\n",
       "  <thead>\n",
       "    <tr style=\"text-align: right;\">\n",
       "      <th></th>\n",
       "      <th>App Name</th>\n",
       "      <th>App Id</th>\n",
       "      <th>Category</th>\n",
       "      <th>Rating</th>\n",
       "      <th>Rating Count</th>\n",
       "      <th>Installs</th>\n",
       "      <th>Minimum Installs</th>\n",
       "      <th>Maximum Installs</th>\n",
       "      <th>Free</th>\n",
       "      <th>Price</th>\n",
       "      <th>...</th>\n",
       "      <th>Developer Website</th>\n",
       "      <th>Developer Email</th>\n",
       "      <th>Released</th>\n",
       "      <th>Last Updated</th>\n",
       "      <th>Content Rating</th>\n",
       "      <th>Privacy Policy</th>\n",
       "      <th>Ad Supported</th>\n",
       "      <th>In App Purchases</th>\n",
       "      <th>Editors Choice</th>\n",
       "      <th>Scraped Time</th>\n",
       "    </tr>\n",
       "  </thead>\n",
       "  <tbody>\n",
       "    <tr>\n",
       "      <th>945753</th>\n",
       "      <td>hyena beauty animals good Wallpaper</td>\n",
       "      <td>com.hyeanawallpapers.hyean.hyanni.hayanx</td>\n",
       "      <td>Entertainment</td>\n",
       "      <td>0.0</td>\n",
       "      <td>0.0</td>\n",
       "      <td>10+</td>\n",
       "      <td>10.0</td>\n",
       "      <td>39</td>\n",
       "      <td>True</td>\n",
       "      <td>0.00</td>\n",
       "      <td>...</td>\n",
       "      <td>NaN</td>\n",
       "      <td>rodmigare.latrinahe046@gmail.com</td>\n",
       "      <td>Mar 30, 2021</td>\n",
       "      <td>Mar 30, 2021</td>\n",
       "      <td>Everyone</td>\n",
       "      <td>https://sites.google.com/view/privacy-wallpape...</td>\n",
       "      <td>True</td>\n",
       "      <td>False</td>\n",
       "      <td>False</td>\n",
       "      <td>2021-06-16 11:27:55</td>\n",
       "    </tr>\n",
       "    <tr>\n",
       "      <th>97508</th>\n",
       "      <td>Oreo Z Flat Icon Pack</td>\n",
       "      <td>com.zoreo.icon.pack.pro</td>\n",
       "      <td>Personalization</td>\n",
       "      <td>4.2</td>\n",
       "      <td>111.0</td>\n",
       "      <td>10,000+</td>\n",
       "      <td>10000.0</td>\n",
       "      <td>26888</td>\n",
       "      <td>False</td>\n",
       "      <td>0.99</td>\n",
       "      <td>...</td>\n",
       "      <td>https://plus.google.com/u/0/communities/108561...</td>\n",
       "      <td>furkanamm@gmail.com</td>\n",
       "      <td>Feb 17, 2018</td>\n",
       "      <td>Mar 01, 2018</td>\n",
       "      <td>Everyone</td>\n",
       "      <td>NaN</td>\n",
       "      <td>False</td>\n",
       "      <td>False</td>\n",
       "      <td>False</td>\n",
       "      <td>2021-06-15 21:55:57</td>\n",
       "    </tr>\n",
       "    <tr>\n",
       "      <th>15171</th>\n",
       "      <td>Willie Jewell's</td>\n",
       "      <td>com.totalloyalty.williejewell349680</td>\n",
       "      <td>Food &amp; Drink</td>\n",
       "      <td>3.5</td>\n",
       "      <td>12.0</td>\n",
       "      <td>5,000+</td>\n",
       "      <td>5000.0</td>\n",
       "      <td>5325</td>\n",
       "      <td>True</td>\n",
       "      <td>0.00</td>\n",
       "      <td>...</td>\n",
       "      <td>http://www.totalloyalty.com</td>\n",
       "      <td>developer@totalloyalty.com</td>\n",
       "      <td>Jul 14, 2017</td>\n",
       "      <td>Apr 28, 2021</td>\n",
       "      <td>Everyone</td>\n",
       "      <td>http://www.totalloyalty.com/privacy-policy</td>\n",
       "      <td>False</td>\n",
       "      <td>False</td>\n",
       "      <td>False</td>\n",
       "      <td>2021-06-15 20:34:19</td>\n",
       "    </tr>\n",
       "    <tr>\n",
       "      <th>1929327</th>\n",
       "      <td>Sikh Aarti Audio</td>\n",
       "      <td>com.webtapps.sikh_aarti_audio</td>\n",
       "      <td>Books &amp; Reference</td>\n",
       "      <td>4.3</td>\n",
       "      <td>11.0</td>\n",
       "      <td>1,000+</td>\n",
       "      <td>1000.0</td>\n",
       "      <td>4135</td>\n",
       "      <td>True</td>\n",
       "      <td>0.00</td>\n",
       "      <td>...</td>\n",
       "      <td>NaN</td>\n",
       "      <td>webtapps@gmail.com</td>\n",
       "      <td>Jan 24, 2018</td>\n",
       "      <td>Aug 20, 2018</td>\n",
       "      <td>Everyone</td>\n",
       "      <td>https://sites.google.com/view/webtapps/privacy...</td>\n",
       "      <td>True</td>\n",
       "      <td>False</td>\n",
       "      <td>False</td>\n",
       "      <td>2021-06-16 07:24:22</td>\n",
       "    </tr>\n",
       "    <tr>\n",
       "      <th>945476</th>\n",
       "      <td>Aix-en-Provence Le Mag</td>\n",
       "      <td>com.sjcom.aixLeMag</td>\n",
       "      <td>News &amp; Magazines</td>\n",
       "      <td>4.4</td>\n",
       "      <td>5.0</td>\n",
       "      <td>1,000+</td>\n",
       "      <td>1000.0</td>\n",
       "      <td>1446</td>\n",
       "      <td>True</td>\n",
       "      <td>0.00</td>\n",
       "      <td>...</td>\n",
       "      <td>http://mairie-aixenprovence.fr/</td>\n",
       "      <td>mobile.aixenprovence@gmail.com</td>\n",
       "      <td>May 9, 2016</td>\n",
       "      <td>Jun 16, 2016</td>\n",
       "      <td>Everyone</td>\n",
       "      <td>http://www.sjcom.fr/policy/flippad/</td>\n",
       "      <td>False</td>\n",
       "      <td>False</td>\n",
       "      <td>False</td>\n",
       "      <td>2021-06-16 11:27:38</td>\n",
       "    </tr>\n",
       "    <tr>\n",
       "      <th>906744</th>\n",
       "      <td>HUDDLE</td>\n",
       "      <td>com.pressmatrix.huddle</td>\n",
       "      <td>News &amp; Magazines</td>\n",
       "      <td>0.0</td>\n",
       "      <td>0.0</td>\n",
       "      <td>50+</td>\n",
       "      <td>50.0</td>\n",
       "      <td>94</td>\n",
       "      <td>True</td>\n",
       "      <td>0.00</td>\n",
       "      <td>...</td>\n",
       "      <td>http://www.football-aktuell.de</td>\n",
       "      <td>info@football-aktuell.de</td>\n",
       "      <td>Jan 21, 2019</td>\n",
       "      <td>Jan 21, 2019</td>\n",
       "      <td>Everyone</td>\n",
       "      <td>http://www.football-aktuell.de/cgi-bin/contain...</td>\n",
       "      <td>True</td>\n",
       "      <td>True</td>\n",
       "      <td>False</td>\n",
       "      <td>2021-06-16 10:51:52</td>\n",
       "    </tr>\n",
       "    <tr>\n",
       "      <th>1965260</th>\n",
       "      <td>Klinik Pengawasan</td>\n",
       "      <td>id.bmkg.klinikpengawasan</td>\n",
       "      <td>Communication</td>\n",
       "      <td>4.2</td>\n",
       "      <td>12.0</td>\n",
       "      <td>100+</td>\n",
       "      <td>100.0</td>\n",
       "      <td>288</td>\n",
       "      <td>True</td>\n",
       "      <td>0.00</td>\n",
       "      <td>...</td>\n",
       "      <td>http://inspektorat.bmkg.go.id</td>\n",
       "      <td>klinikpengawasan@bmkg.go.id</td>\n",
       "      <td>Oct 29, 2019</td>\n",
       "      <td>Oct 30, 2019</td>\n",
       "      <td>Everyone</td>\n",
       "      <td>https://www.bmkg.go.id</td>\n",
       "      <td>False</td>\n",
       "      <td>False</td>\n",
       "      <td>False</td>\n",
       "      <td>2021-06-16 07:55:38</td>\n",
       "    </tr>\n",
       "    <tr>\n",
       "      <th>2083552</th>\n",
       "      <td>Lionel Messi LockScreen</td>\n",
       "      <td>com.pulgafcbmessi.hopelock</td>\n",
       "      <td>Lifestyle</td>\n",
       "      <td>4.1</td>\n",
       "      <td>98.0</td>\n",
       "      <td>10,000+</td>\n",
       "      <td>10000.0</td>\n",
       "      <td>22455</td>\n",
       "      <td>True</td>\n",
       "      <td>0.00</td>\n",
       "      <td>...</td>\n",
       "      <td>NaN</td>\n",
       "      <td>locksecure11@gmail.com</td>\n",
       "      <td>Jun 15, 2019</td>\n",
       "      <td>Jun 15, 2019</td>\n",
       "      <td>Everyone</td>\n",
       "      <td>https://sites.google.com/view/locksecure11/home</td>\n",
       "      <td>True</td>\n",
       "      <td>False</td>\n",
       "      <td>False</td>\n",
       "      <td>2021-06-16 09:39:04</td>\n",
       "    </tr>\n",
       "    <tr>\n",
       "      <th>970372</th>\n",
       "      <td>Alp Doner Kebab</td>\n",
       "      <td>com.ultimatumapp.alpdonerkebab</td>\n",
       "      <td>Shopping</td>\n",
       "      <td>3.9</td>\n",
       "      <td>7.0</td>\n",
       "      <td>100+</td>\n",
       "      <td>100.0</td>\n",
       "      <td>401</td>\n",
       "      <td>True</td>\n",
       "      <td>0.00</td>\n",
       "      <td>...</td>\n",
       "      <td>http://www.ultimatumapp.nl</td>\n",
       "      <td>info@ultimatumapp.nl</td>\n",
       "      <td>NaN</td>\n",
       "      <td>Oct 11, 2018</td>\n",
       "      <td>Everyone</td>\n",
       "      <td>http://ultimatumapp.nl/privacy-agreement/</td>\n",
       "      <td>False</td>\n",
       "      <td>False</td>\n",
       "      <td>False</td>\n",
       "      <td>2021-06-16 11:50:48</td>\n",
       "    </tr>\n",
       "    <tr>\n",
       "      <th>1410728</th>\n",
       "      <td>Moon Wallpapers</td>\n",
       "      <td>com.sangam.moon.wallpapers</td>\n",
       "      <td>Personalization</td>\n",
       "      <td>4.6</td>\n",
       "      <td>19.0</td>\n",
       "      <td>1,000+</td>\n",
       "      <td>1000.0</td>\n",
       "      <td>3079</td>\n",
       "      <td>True</td>\n",
       "      <td>0.00</td>\n",
       "      <td>...</td>\n",
       "      <td>NaN</td>\n",
       "      <td>askndria@gmail.com</td>\n",
       "      <td>Jun 21, 2015</td>\n",
       "      <td>Jun 21, 2015</td>\n",
       "      <td>Everyone</td>\n",
       "      <td>https://docs.google.com/document/d/1WF4Yw34q1W...</td>\n",
       "      <td>True</td>\n",
       "      <td>False</td>\n",
       "      <td>False</td>\n",
       "      <td>2021-06-15 23:56:03</td>\n",
       "    </tr>\n",
       "  </tbody>\n",
       "</table>\n",
       "<p>10 rows × 24 columns</p>\n",
       "</div>"
      ],
      "text/plain": [
       "                                    App Name  \\\n",
       "945753   hyena beauty animals good Wallpaper   \n",
       "97508                  Oreo Z Flat Icon Pack   \n",
       "15171                        Willie Jewell's   \n",
       "1929327                     Sikh Aarti Audio   \n",
       "945476                Aix-en-Provence Le Mag   \n",
       "906744                                HUDDLE   \n",
       "1965260                    Klinik Pengawasan   \n",
       "2083552              Lionel Messi LockScreen   \n",
       "970372                       Alp Doner Kebab   \n",
       "1410728                      Moon Wallpapers   \n",
       "\n",
       "                                           App Id           Category  Rating  \\\n",
       "945753   com.hyeanawallpapers.hyean.hyanni.hayanx      Entertainment     0.0   \n",
       "97508                     com.zoreo.icon.pack.pro    Personalization     4.2   \n",
       "15171         com.totalloyalty.williejewell349680       Food & Drink     3.5   \n",
       "1929327             com.webtapps.sikh_aarti_audio  Books & Reference     4.3   \n",
       "945476                         com.sjcom.aixLeMag   News & Magazines     4.4   \n",
       "906744                     com.pressmatrix.huddle   News & Magazines     0.0   \n",
       "1965260                  id.bmkg.klinikpengawasan      Communication     4.2   \n",
       "2083552                com.pulgafcbmessi.hopelock          Lifestyle     4.1   \n",
       "970372             com.ultimatumapp.alpdonerkebab           Shopping     3.9   \n",
       "1410728                com.sangam.moon.wallpapers    Personalization     4.6   \n",
       "\n",
       "         Rating Count Installs  Minimum Installs  Maximum Installs   Free  \\\n",
       "945753            0.0      10+              10.0                39   True   \n",
       "97508           111.0  10,000+           10000.0             26888  False   \n",
       "15171            12.0   5,000+            5000.0              5325   True   \n",
       "1929327          11.0   1,000+            1000.0              4135   True   \n",
       "945476            5.0   1,000+            1000.0              1446   True   \n",
       "906744            0.0      50+              50.0                94   True   \n",
       "1965260          12.0     100+             100.0               288   True   \n",
       "2083552          98.0  10,000+           10000.0             22455   True   \n",
       "970372            7.0     100+             100.0               401   True   \n",
       "1410728          19.0   1,000+            1000.0              3079   True   \n",
       "\n",
       "         Price  ...                                  Developer Website  \\\n",
       "945753    0.00  ...                                                NaN   \n",
       "97508     0.99  ...  https://plus.google.com/u/0/communities/108561...   \n",
       "15171     0.00  ...                        http://www.totalloyalty.com   \n",
       "1929327   0.00  ...                                                NaN   \n",
       "945476    0.00  ...                    http://mairie-aixenprovence.fr/   \n",
       "906744    0.00  ...                     http://www.football-aktuell.de   \n",
       "1965260   0.00  ...                      http://inspektorat.bmkg.go.id   \n",
       "2083552   0.00  ...                                                NaN   \n",
       "970372    0.00  ...                         http://www.ultimatumapp.nl   \n",
       "1410728   0.00  ...                                                NaN   \n",
       "\n",
       "                          Developer Email      Released  Last Updated  \\\n",
       "945753   rodmigare.latrinahe046@gmail.com  Mar 30, 2021  Mar 30, 2021   \n",
       "97508                 furkanamm@gmail.com  Feb 17, 2018  Mar 01, 2018   \n",
       "15171          developer@totalloyalty.com  Jul 14, 2017  Apr 28, 2021   \n",
       "1929327                webtapps@gmail.com  Jan 24, 2018  Aug 20, 2018   \n",
       "945476     mobile.aixenprovence@gmail.com   May 9, 2016  Jun 16, 2016   \n",
       "906744           info@football-aktuell.de  Jan 21, 2019  Jan 21, 2019   \n",
       "1965260       klinikpengawasan@bmkg.go.id  Oct 29, 2019  Oct 30, 2019   \n",
       "2083552            locksecure11@gmail.com  Jun 15, 2019  Jun 15, 2019   \n",
       "970372               info@ultimatumapp.nl           NaN  Oct 11, 2018   \n",
       "1410728                askndria@gmail.com  Jun 21, 2015  Jun 21, 2015   \n",
       "\n",
       "        Content Rating                                     Privacy Policy  \\\n",
       "945753        Everyone  https://sites.google.com/view/privacy-wallpape...   \n",
       "97508         Everyone                                                NaN   \n",
       "15171         Everyone         http://www.totalloyalty.com/privacy-policy   \n",
       "1929327       Everyone  https://sites.google.com/view/webtapps/privacy...   \n",
       "945476        Everyone                http://www.sjcom.fr/policy/flippad/   \n",
       "906744        Everyone  http://www.football-aktuell.de/cgi-bin/contain...   \n",
       "1965260       Everyone                             https://www.bmkg.go.id   \n",
       "2083552       Everyone    https://sites.google.com/view/locksecure11/home   \n",
       "970372        Everyone          http://ultimatumapp.nl/privacy-agreement/   \n",
       "1410728       Everyone  https://docs.google.com/document/d/1WF4Yw34q1W...   \n",
       "\n",
       "        Ad Supported In App Purchases Editors Choice         Scraped Time  \n",
       "945753          True            False          False  2021-06-16 11:27:55  \n",
       "97508          False            False          False  2021-06-15 21:55:57  \n",
       "15171          False            False          False  2021-06-15 20:34:19  \n",
       "1929327         True            False          False  2021-06-16 07:24:22  \n",
       "945476         False            False          False  2021-06-16 11:27:38  \n",
       "906744          True             True          False  2021-06-16 10:51:52  \n",
       "1965260        False            False          False  2021-06-16 07:55:38  \n",
       "2083552         True            False          False  2021-06-16 09:39:04  \n",
       "970372         False            False          False  2021-06-16 11:50:48  \n",
       "1410728         True            False          False  2021-06-15 23:56:03  \n",
       "\n",
       "[10 rows x 24 columns]"
      ]
     },
     "execution_count": 5,
     "metadata": {},
     "output_type": "execute_result"
    }
   ],
   "source": [
    "# Display a random sample of 10 rows from the DataFrame\n",
    "df.sample(10)"
   ]
  },
  {
   "cell_type": "code",
   "execution_count": 6,
   "id": "89ba53c9-dcd0-4da0-b59c-1d34b58511f3",
   "metadata": {},
   "outputs": [
    {
     "name": "stdout",
     "output_type": "stream",
     "text": [
      "The dataset contains 2312944 rows and 24 columns\n"
     ]
    }
   ],
   "source": [
    "# let check the shape of the dataset \n",
    "print(f\"The dataset contains {df.shape[0]} rows and {df.shape[1]} columns\")"
   ]
  },
  {
   "cell_type": "code",
   "execution_count": 7,
   "id": "15e3c22e-009f-432e-a083-e52422f06b73",
   "metadata": {},
   "outputs": [
    {
     "data": {
      "text/plain": [
       "Index(['App Name', 'App Id', 'Category', 'Rating', 'Rating Count', 'Installs',\n",
       "       'Minimum Installs', 'Maximum Installs', 'Free', 'Price', 'Currency',\n",
       "       'Size', 'Minimum Android', 'Developer Id', 'Developer Website',\n",
       "       'Developer Email', 'Released', 'Last Updated', 'Content Rating',\n",
       "       'Privacy Policy', 'Ad Supported', 'In App Purchases', 'Editors Choice',\n",
       "       'Scraped Time'],\n",
       "      dtype='object')"
      ]
     },
     "execution_count": 7,
     "metadata": {},
     "output_type": "execute_result"
    }
   ],
   "source": [
    "# lets check columns \n",
    "df.columns"
   ]
  },
  {
   "cell_type": "code",
   "execution_count": 8,
   "id": "1359ddc5-45ec-4e96-a5ee-281c720e279f",
   "metadata": {},
   "outputs": [
    {
     "name": "stdout",
     "output_type": "stream",
     "text": [
      "<class 'pandas.core.frame.DataFrame'>\n",
      "RangeIndex: 2312944 entries, 0 to 2312943\n",
      "Data columns (total 24 columns):\n",
      " #   Column             Dtype  \n",
      "---  ------             -----  \n",
      " 0   App Name           object \n",
      " 1   App Id             object \n",
      " 2   Category           object \n",
      " 3   Rating             float64\n",
      " 4   Rating Count       float64\n",
      " 5   Installs           object \n",
      " 6   Minimum Installs   float64\n",
      " 7   Maximum Installs   int64  \n",
      " 8   Free               bool   \n",
      " 9   Price              float64\n",
      " 10  Currency           object \n",
      " 11  Size               object \n",
      " 12  Minimum Android    object \n",
      " 13  Developer Id       object \n",
      " 14  Developer Website  object \n",
      " 15  Developer Email    object \n",
      " 16  Released           object \n",
      " 17  Last Updated       object \n",
      " 18  Content Rating     object \n",
      " 19  Privacy Policy     object \n",
      " 20  Ad Supported       bool   \n",
      " 21  In App Purchases   bool   \n",
      " 22  Editors Choice     bool   \n",
      " 23  Scraped Time       object \n",
      "dtypes: bool(4), float64(4), int64(1), object(15)\n",
      "memory usage: 361.8+ MB\n"
     ]
    }
   ],
   "source": [
    "# lets check info of the dataset \n",
    "df.info()"
   ]
  },
  {
   "cell_type": "code",
   "execution_count": 9,
   "id": "f02880aa-184d-41fa-82f3-b507c463a50c",
   "metadata": {},
   "outputs": [
    {
     "data": {
      "text/html": [
       "<div>\n",
       "<style scoped>\n",
       "    .dataframe tbody tr th:only-of-type {\n",
       "        vertical-align: middle;\n",
       "    }\n",
       "\n",
       "    .dataframe tbody tr th {\n",
       "        vertical-align: top;\n",
       "    }\n",
       "\n",
       "    .dataframe thead th {\n",
       "        text-align: right;\n",
       "    }\n",
       "</style>\n",
       "<table border=\"1\" class=\"dataframe\">\n",
       "  <thead>\n",
       "    <tr style=\"text-align: right;\">\n",
       "      <th></th>\n",
       "      <th>Rating</th>\n",
       "      <th>Rating Count</th>\n",
       "      <th>Minimum Installs</th>\n",
       "      <th>Maximum Installs</th>\n",
       "      <th>Price</th>\n",
       "    </tr>\n",
       "  </thead>\n",
       "  <tbody>\n",
       "    <tr>\n",
       "      <th>count</th>\n",
       "      <td>2.290061e+06</td>\n",
       "      <td>2.290061e+06</td>\n",
       "      <td>2.312837e+06</td>\n",
       "      <td>2.312944e+06</td>\n",
       "      <td>2.312944e+06</td>\n",
       "    </tr>\n",
       "    <tr>\n",
       "      <th>mean</th>\n",
       "      <td>2.203152e+00</td>\n",
       "      <td>2.864839e+03</td>\n",
       "      <td>1.834452e+05</td>\n",
       "      <td>3.202017e+05</td>\n",
       "      <td>1.034992e-01</td>\n",
       "    </tr>\n",
       "    <tr>\n",
       "      <th>std</th>\n",
       "      <td>2.106223e+00</td>\n",
       "      <td>2.121626e+05</td>\n",
       "      <td>1.513144e+07</td>\n",
       "      <td>2.355495e+07</td>\n",
       "      <td>2.633127e+00</td>\n",
       "    </tr>\n",
       "    <tr>\n",
       "      <th>min</th>\n",
       "      <td>0.000000e+00</td>\n",
       "      <td>0.000000e+00</td>\n",
       "      <td>0.000000e+00</td>\n",
       "      <td>0.000000e+00</td>\n",
       "      <td>0.000000e+00</td>\n",
       "    </tr>\n",
       "    <tr>\n",
       "      <th>25%</th>\n",
       "      <td>0.000000e+00</td>\n",
       "      <td>0.000000e+00</td>\n",
       "      <td>5.000000e+01</td>\n",
       "      <td>8.400000e+01</td>\n",
       "      <td>0.000000e+00</td>\n",
       "    </tr>\n",
       "    <tr>\n",
       "      <th>50%</th>\n",
       "      <td>2.900000e+00</td>\n",
       "      <td>6.000000e+00</td>\n",
       "      <td>5.000000e+02</td>\n",
       "      <td>6.950000e+02</td>\n",
       "      <td>0.000000e+00</td>\n",
       "    </tr>\n",
       "    <tr>\n",
       "      <th>75%</th>\n",
       "      <td>4.300000e+00</td>\n",
       "      <td>4.200000e+01</td>\n",
       "      <td>5.000000e+03</td>\n",
       "      <td>7.354000e+03</td>\n",
       "      <td>0.000000e+00</td>\n",
       "    </tr>\n",
       "    <tr>\n",
       "      <th>max</th>\n",
       "      <td>5.000000e+00</td>\n",
       "      <td>1.385576e+08</td>\n",
       "      <td>1.000000e+10</td>\n",
       "      <td>1.205763e+10</td>\n",
       "      <td>4.000000e+02</td>\n",
       "    </tr>\n",
       "  </tbody>\n",
       "</table>\n",
       "</div>"
      ],
      "text/plain": [
       "             Rating  Rating Count  Minimum Installs  Maximum Installs  \\\n",
       "count  2.290061e+06  2.290061e+06      2.312837e+06      2.312944e+06   \n",
       "mean   2.203152e+00  2.864839e+03      1.834452e+05      3.202017e+05   \n",
       "std    2.106223e+00  2.121626e+05      1.513144e+07      2.355495e+07   \n",
       "min    0.000000e+00  0.000000e+00      0.000000e+00      0.000000e+00   \n",
       "25%    0.000000e+00  0.000000e+00      5.000000e+01      8.400000e+01   \n",
       "50%    2.900000e+00  6.000000e+00      5.000000e+02      6.950000e+02   \n",
       "75%    4.300000e+00  4.200000e+01      5.000000e+03      7.354000e+03   \n",
       "max    5.000000e+00  1.385576e+08      1.000000e+10      1.205763e+10   \n",
       "\n",
       "              Price  \n",
       "count  2.312944e+06  \n",
       "mean   1.034992e-01  \n",
       "std    2.633127e+00  \n",
       "min    0.000000e+00  \n",
       "25%    0.000000e+00  \n",
       "50%    0.000000e+00  \n",
       "75%    0.000000e+00  \n",
       "max    4.000000e+02  "
      ]
     },
     "execution_count": 9,
     "metadata": {},
     "output_type": "execute_result"
    }
   ],
   "source": [
    "# lets check the summary of the dataset\n",
    "df.describe()"
   ]
  },
  {
   "cell_type": "code",
   "execution_count": 10,
   "id": "9076db21-2ba2-4029-8b46-f2a6be085506",
   "metadata": {},
   "outputs": [
    {
     "data": {
      "text/plain": [
       "0"
      ]
     },
     "execution_count": 10,
     "metadata": {},
     "output_type": "execute_result"
    }
   ],
   "source": [
    "# lets check dulplicates\n",
    "df.duplicated().sum()"
   ]
  },
  {
   "cell_type": "markdown",
   "id": "b7fa65d1-b1a5-4cf8-9dca-3ca85edf71fb",
   "metadata": {},
   "source": [
    "#### Missing Data Profile"
   ]
  },
  {
   "cell_type": "code",
   "execution_count": 11,
   "id": "42e3a21a-6aa3-4387-9bd8-b51e69ac0a5e",
   "metadata": {},
   "outputs": [
    {
     "data": {
      "text/plain": [
       "array([     5,      0,      0,  22883,  22883,    107,    107,      0,\n",
       "            0,      0,    135,    196,   6530,     33, 760835,     31,\n",
       "        71053,      0,      0, 420953,      0,      0,      0,      0],\n",
       "      dtype=int64)"
      ]
     },
     "execution_count": 11,
     "metadata": {},
     "output_type": "execute_result"
    }
   ],
   "source": [
    "df.isnull().sum().values"
   ]
  },
  {
   "cell_type": "code",
   "execution_count": 12,
   "id": "6b539155-6b2d-46f6-983b-9278f3045095",
   "metadata": {},
   "outputs": [
    {
     "data": {
      "text/html": [
       "<div>\n",
       "<style scoped>\n",
       "    .dataframe tbody tr th:only-of-type {\n",
       "        vertical-align: middle;\n",
       "    }\n",
       "\n",
       "    .dataframe tbody tr th {\n",
       "        vertical-align: top;\n",
       "    }\n",
       "\n",
       "    .dataframe thead th {\n",
       "        text-align: right;\n",
       "    }\n",
       "</style>\n",
       "<table border=\"1\" class=\"dataframe\">\n",
       "  <thead>\n",
       "    <tr style=\"text-align: right;\">\n",
       "      <th></th>\n",
       "      <th>Columns</th>\n",
       "      <th>Missing Count</th>\n",
       "      <th>Missing Percent</th>\n",
       "    </tr>\n",
       "  </thead>\n",
       "  <tbody>\n",
       "    <tr>\n",
       "      <th>0</th>\n",
       "      <td>App Name</td>\n",
       "      <td>5</td>\n",
       "      <td>0.00022</td>\n",
       "    </tr>\n",
       "    <tr>\n",
       "      <th>1</th>\n",
       "      <td>App Id</td>\n",
       "      <td>0</td>\n",
       "      <td>0.00000</td>\n",
       "    </tr>\n",
       "    <tr>\n",
       "      <th>2</th>\n",
       "      <td>Category</td>\n",
       "      <td>0</td>\n",
       "      <td>0.00000</td>\n",
       "    </tr>\n",
       "    <tr>\n",
       "      <th>3</th>\n",
       "      <td>Rating</td>\n",
       "      <td>22883</td>\n",
       "      <td>0.98935</td>\n",
       "    </tr>\n",
       "    <tr>\n",
       "      <th>4</th>\n",
       "      <td>Rating Count</td>\n",
       "      <td>22883</td>\n",
       "      <td>0.98935</td>\n",
       "    </tr>\n",
       "    <tr>\n",
       "      <th>5</th>\n",
       "      <td>Installs</td>\n",
       "      <td>107</td>\n",
       "      <td>0.00463</td>\n",
       "    </tr>\n",
       "    <tr>\n",
       "      <th>6</th>\n",
       "      <td>Minimum Installs</td>\n",
       "      <td>107</td>\n",
       "      <td>0.00463</td>\n",
       "    </tr>\n",
       "    <tr>\n",
       "      <th>7</th>\n",
       "      <td>Maximum Installs</td>\n",
       "      <td>0</td>\n",
       "      <td>0.00000</td>\n",
       "    </tr>\n",
       "    <tr>\n",
       "      <th>8</th>\n",
       "      <td>Free</td>\n",
       "      <td>0</td>\n",
       "      <td>0.00000</td>\n",
       "    </tr>\n",
       "    <tr>\n",
       "      <th>9</th>\n",
       "      <td>Price</td>\n",
       "      <td>0</td>\n",
       "      <td>0.00000</td>\n",
       "    </tr>\n",
       "    <tr>\n",
       "      <th>10</th>\n",
       "      <td>Currency</td>\n",
       "      <td>135</td>\n",
       "      <td>0.00584</td>\n",
       "    </tr>\n",
       "    <tr>\n",
       "      <th>11</th>\n",
       "      <td>Size</td>\n",
       "      <td>196</td>\n",
       "      <td>0.00847</td>\n",
       "    </tr>\n",
       "    <tr>\n",
       "      <th>12</th>\n",
       "      <td>Minimum Android</td>\n",
       "      <td>6530</td>\n",
       "      <td>0.28232</td>\n",
       "    </tr>\n",
       "    <tr>\n",
       "      <th>13</th>\n",
       "      <td>Developer Id</td>\n",
       "      <td>33</td>\n",
       "      <td>0.00143</td>\n",
       "    </tr>\n",
       "    <tr>\n",
       "      <th>14</th>\n",
       "      <td>Developer Website</td>\n",
       "      <td>760835</td>\n",
       "      <td>32.89466</td>\n",
       "    </tr>\n",
       "    <tr>\n",
       "      <th>15</th>\n",
       "      <td>Developer Email</td>\n",
       "      <td>31</td>\n",
       "      <td>0.00134</td>\n",
       "    </tr>\n",
       "    <tr>\n",
       "      <th>16</th>\n",
       "      <td>Released</td>\n",
       "      <td>71053</td>\n",
       "      <td>3.07197</td>\n",
       "    </tr>\n",
       "    <tr>\n",
       "      <th>17</th>\n",
       "      <td>Last Updated</td>\n",
       "      <td>0</td>\n",
       "      <td>0.00000</td>\n",
       "    </tr>\n",
       "    <tr>\n",
       "      <th>18</th>\n",
       "      <td>Content Rating</td>\n",
       "      <td>0</td>\n",
       "      <td>0.00000</td>\n",
       "    </tr>\n",
       "    <tr>\n",
       "      <th>19</th>\n",
       "      <td>Privacy Policy</td>\n",
       "      <td>420953</td>\n",
       "      <td>18.19988</td>\n",
       "    </tr>\n",
       "    <tr>\n",
       "      <th>20</th>\n",
       "      <td>Ad Supported</td>\n",
       "      <td>0</td>\n",
       "      <td>0.00000</td>\n",
       "    </tr>\n",
       "    <tr>\n",
       "      <th>21</th>\n",
       "      <td>In App Purchases</td>\n",
       "      <td>0</td>\n",
       "      <td>0.00000</td>\n",
       "    </tr>\n",
       "    <tr>\n",
       "      <th>22</th>\n",
       "      <td>Editors Choice</td>\n",
       "      <td>0</td>\n",
       "      <td>0.00000</td>\n",
       "    </tr>\n",
       "    <tr>\n",
       "      <th>23</th>\n",
       "      <td>Scraped Time</td>\n",
       "      <td>0</td>\n",
       "      <td>0.00000</td>\n",
       "    </tr>\n",
       "  </tbody>\n",
       "</table>\n",
       "</div>"
      ],
      "text/plain": [
       "              Columns  Missing Count  Missing Percent\n",
       "0            App Name              5          0.00022\n",
       "1              App Id              0          0.00000\n",
       "2            Category              0          0.00000\n",
       "3              Rating          22883          0.98935\n",
       "4        Rating Count          22883          0.98935\n",
       "5            Installs            107          0.00463\n",
       "6    Minimum Installs            107          0.00463\n",
       "7    Maximum Installs              0          0.00000\n",
       "8                Free              0          0.00000\n",
       "9               Price              0          0.00000\n",
       "10           Currency            135          0.00584\n",
       "11               Size            196          0.00847\n",
       "12    Minimum Android           6530          0.28232\n",
       "13       Developer Id             33          0.00143\n",
       "14  Developer Website         760835         32.89466\n",
       "15    Developer Email             31          0.00134\n",
       "16           Released          71053          3.07197\n",
       "17       Last Updated              0          0.00000\n",
       "18     Content Rating              0          0.00000\n",
       "19     Privacy Policy         420953         18.19988\n",
       "20       Ad Supported              0          0.00000\n",
       "21   In App Purchases              0          0.00000\n",
       "22     Editors Choice              0          0.00000\n",
       "23       Scraped Time              0          0.00000"
      ]
     },
     "execution_count": 12,
     "metadata": {},
     "output_type": "execute_result"
    }
   ],
   "source": [
    "# list columns of the DataFrame\n",
    "columns = df.columns.to_list()\n",
    "\n",
    "# Determine the count of missing values in each column of the DataFrame\n",
    "missing_counts = df.isnull().sum()\n",
    "\n",
    "# Calculate the percentage of missing values in each column of the DataFrame\n",
    "percent_missing_count = round((df.isnull().sum() / df.shape[0])*100,5)\n",
    "\n",
    "missing_report = {\n",
    "    \"Columns\": columns,\n",
    "    \"Missing Count\": missing_counts.values,\n",
    "    \"Missing Percent\": percent_missing_count.values\n",
    "}\n",
    "\n",
    "missing_report_df = pd.DataFrame(missing_report)  # create a dataframe report about the missing data\n",
    "missing_report_df\n"
   ]
  },
  {
   "cell_type": "markdown",
   "id": "6ac73338-7604-45d9-8558-f29245991acd",
   "metadata": {},
   "source": [
    "#### Data Inspection Observations:\n",
    "<hr>\n",
    "\n",
    "1. There are `2312944` rows and `24` columns in the dataset\n",
    "2. There is no duplicates in the data.\n",
    "3. The columns are of different data types\n",
    "4. The columns in the datasets are:\n",
    "   * `App Name`, `App Id`, `Category`, `Rating`, `Rating Count`, `Installs`, `Minimum Installs`, `Maximum Installs`, `Free`, `Price`,\n",
    "     `Currency`, `Size`, `Minimum Android`, `Developer Id`, `Developer Website`, `Developer Email`, `Released`, `Last Updated`, `Content\n",
    "     Rating`, `Privacy Policy`, `Ad Supported`, `In App Purchases`, `Editors Choice`, `Scraped Time`.\n",
    "5. dtypes: bool = 4, float64 = 4, int64 = 1, object = 15\n",
    "6. There are some missing values in the dataset which we will read in details and deal later on in the notebook.\n",
    "   * `Developer Website` have almost 33% and `Privacy Policy` have almost 18% of missing values\n",
    "7. Few columns need to be remove as they do not contribute to the overall results of the dataset\n",
    "   like: `App Id`, `Developer Id`, `Developer Website`, `Developer Email`, `Privacy Policy`, `Editors\n",
    "   Choice`, `Minimum Android` & `Scraped Time`\n",
    "9. There are some columns which are of object data type but they should be of numeric data type, we will\n",
    "    convert them later on in the notebook.\n",
    "   * `Installs & Size`"
   ]
  },
  {
   "cell_type": "markdown",
   "id": "2498f4ad-2d95-4ff9-be96-749826ae5cc3",
   "metadata": {},
   "source": [
    "## 3.0 Data Cleaning"
   ]
  },
  {
   "cell_type": "markdown",
   "id": "c3aa8483-c236-4d0f-a4be-14e4e1934be2",
   "metadata": {},
   "source": [
    "#### - Drop the columns that are not important"
   ]
  },
  {
   "cell_type": "code",
   "execution_count": 13,
   "id": "1fa65449-22c8-4c7e-b6d2-15fb046a48a2",
   "metadata": {},
   "outputs": [],
   "source": [
    "# Drop unnecessary columns from the DataFrame\n",
    "df.drop(columns = ['App Id', 'Developer Id', 'Developer Website', 'Developer Email', \n",
    "              'Privacy Policy', 'Editors Choice', 'Minimum Android', 'Scraped Time'], \n",
    "        axis='columns',\n",
    "       inplace=True)"
   ]
  },
  {
   "cell_type": "markdown",
   "id": "0c972823-0b24-4782-a02d-25bcee68f7a2",
   "metadata": {},
   "source": [
    "#### - Rename columns"
   ]
  },
  {
   "cell_type": "code",
   "execution_count": 14,
   "id": "50a7ee7b-a5bd-48d3-aa8c-72a7b455d1cf",
   "metadata": {},
   "outputs": [
    {
     "name": "stdout",
     "output_type": "stream",
     "text": [
      "Hello World\n"
     ]
    }
   ],
   "source": [
    "# anonymous function /no name\n",
    "\n",
    "def hello():\n",
    "    print(\"Hello World\")\n",
    "\n",
    "hello()"
   ]
  },
  {
   "cell_type": "code",
   "execution_count": 15,
   "id": "5cd5153a-fa1a-48ec-acde-bd3b8fb2e7b6",
   "metadata": {},
   "outputs": [
    {
     "name": "stdout",
     "output_type": "stream",
     "text": [
      "My value is: 6\n"
     ]
    }
   ],
   "source": [
    "greeting = lambda x: print(f\"My value is: {x}\")\n",
    "greeting(6)"
   ]
  },
  {
   "cell_type": "code",
   "execution_count": 16,
   "id": "d1424dee-2fd6-49dc-b881-787b761f27d7",
   "metadata": {},
   "outputs": [],
   "source": [
    "# df.rename(columns={\"App Name\":\"app_name\",\n",
    "#                   \"Category\":\"category\",\n",
    "#                   \"Rating Count\":\"rating_count\"})"
   ]
  },
  {
   "cell_type": "code",
   "execution_count": 17,
   "id": "c2eff97e-a444-4bd0-9467-3727873c646f",
   "metadata": {},
   "outputs": [],
   "source": [
    "# Rename columns by converting them to lowercase, removing leading/trailing whitespaces, and replacing spaces with underscores\n",
    "df.rename(lambda x: x.lower().strip().replace(' ', '_'), axis='columns', inplace=True)"
   ]
  },
  {
   "cell_type": "code",
   "execution_count": 18,
   "id": "7a5dcd70-ce46-4f41-8c50-591ebf808f7b",
   "metadata": {},
   "outputs": [
    {
     "data": {
      "text/plain": [
       "Index(['app_name', 'category', 'rating', 'rating_count', 'installs',\n",
       "       'minimum_installs', 'maximum_installs', 'free', 'price', 'currency',\n",
       "       'size', 'released', 'last_updated', 'content_rating', 'ad_supported',\n",
       "       'in_app_purchases'],\n",
       "      dtype='object')"
      ]
     },
     "execution_count": 18,
     "metadata": {},
     "output_type": "execute_result"
    }
   ],
   "source": [
    "df.columns"
   ]
  },
  {
   "cell_type": "markdown",
   "id": "a815a61a-a5e6-4908-b433-02f9b163bfe3",
   "metadata": {},
   "source": [
    "#### - Deal with missing values and inconsistencies"
   ]
  },
  {
   "cell_type": "markdown",
   "id": "4d450880-37d1-4a5d-8847-dcb34eaa1efd",
   "metadata": {},
   "source": [
    "**App Name**"
   ]
  },
  {
   "cell_type": "code",
   "execution_count": 19,
   "id": "8a36deb1-16d4-4329-b3f3-a2cb094755b3",
   "metadata": {},
   "outputs": [
    {
     "data": {
      "text/plain": [
       "5"
      ]
     },
     "execution_count": 19,
     "metadata": {},
     "output_type": "execute_result"
    }
   ],
   "source": [
    "# check the number of missing values\n",
    "df[\"app_name\"].isnull().sum()"
   ]
  },
  {
   "cell_type": "code",
   "execution_count": 20,
   "id": "6b563ede-42ee-4e61-90f9-ec826b812bba",
   "metadata": {},
   "outputs": [],
   "source": [
    "# remove that row in App Name column that has missing values\n",
    "df.dropna(subset=['app_name'], inplace=True)"
   ]
  },
  {
   "cell_type": "code",
   "execution_count": 21,
   "id": "c5462e52-b475-49fb-9a63-d8e48c52fd09",
   "metadata": {},
   "outputs": [
    {
     "data": {
      "text/plain": [
       "0"
      ]
     },
     "execution_count": 21,
     "metadata": {},
     "output_type": "execute_result"
    }
   ],
   "source": [
    "df[\"app_name\"].isnull().sum()"
   ]
  },
  {
   "cell_type": "markdown",
   "id": "8d37a9d4-c27d-4417-bb17-9bbd7f1044b2",
   "metadata": {},
   "source": [
    "**Rating**\n",
    "\n",
    "For Rating we will replace the respective missing values of Rating, with respect of the average rating of their 'Category'"
   ]
  },
  {
   "cell_type": "code",
   "execution_count": 22,
   "id": "8cf6c598-b081-4e5d-a88f-e50fc16c93e2",
   "metadata": {},
   "outputs": [
    {
     "data": {
      "text/plain": [
       "22883"
      ]
     },
     "execution_count": 22,
     "metadata": {},
     "output_type": "execute_result"
    }
   ],
   "source": [
    "df[\"rating\"].isnull().sum()"
   ]
  },
  {
   "cell_type": "code",
   "execution_count": 23,
   "id": "c454e7c8-aaca-4daf-9ec9-c4b8e5141757",
   "metadata": {},
   "outputs": [
    {
     "data": {
      "text/html": [
       "<div>\n",
       "<style scoped>\n",
       "    .dataframe tbody tr th:only-of-type {\n",
       "        vertical-align: middle;\n",
       "    }\n",
       "\n",
       "    .dataframe tbody tr th {\n",
       "        vertical-align: top;\n",
       "    }\n",
       "\n",
       "    .dataframe thead th {\n",
       "        text-align: right;\n",
       "    }\n",
       "</style>\n",
       "<table border=\"1\" class=\"dataframe\">\n",
       "  <thead>\n",
       "    <tr style=\"text-align: right;\">\n",
       "      <th></th>\n",
       "      <th>category</th>\n",
       "      <th>rating</th>\n",
       "    </tr>\n",
       "  </thead>\n",
       "  <tbody>\n",
       "    <tr>\n",
       "      <th>0</th>\n",
       "      <td>Action</td>\n",
       "      <td>2.705979</td>\n",
       "    </tr>\n",
       "    <tr>\n",
       "      <th>1</th>\n",
       "      <td>Adventure</td>\n",
       "      <td>2.814991</td>\n",
       "    </tr>\n",
       "    <tr>\n",
       "      <th>2</th>\n",
       "      <td>Arcade</td>\n",
       "      <td>2.450405</td>\n",
       "    </tr>\n",
       "    <tr>\n",
       "      <th>3</th>\n",
       "      <td>Art &amp; Design</td>\n",
       "      <td>1.952354</td>\n",
       "    </tr>\n",
       "    <tr>\n",
       "      <th>4</th>\n",
       "      <td>Auto &amp; Vehicles</td>\n",
       "      <td>2.049613</td>\n",
       "    </tr>\n",
       "    <tr>\n",
       "      <th>5</th>\n",
       "      <td>Beauty</td>\n",
       "      <td>1.434105</td>\n",
       "    </tr>\n",
       "    <tr>\n",
       "      <th>6</th>\n",
       "      <td>Board</td>\n",
       "      <td>2.782275</td>\n",
       "    </tr>\n",
       "    <tr>\n",
       "      <th>7</th>\n",
       "      <td>Books &amp; Reference</td>\n",
       "      <td>2.467159</td>\n",
       "    </tr>\n",
       "    <tr>\n",
       "      <th>8</th>\n",
       "      <td>Business</td>\n",
       "      <td>1.439082</td>\n",
       "    </tr>\n",
       "    <tr>\n",
       "      <th>9</th>\n",
       "      <td>Card</td>\n",
       "      <td>3.085160</td>\n",
       "    </tr>\n",
       "    <tr>\n",
       "      <th>10</th>\n",
       "      <td>Casino</td>\n",
       "      <td>3.279682</td>\n",
       "    </tr>\n",
       "    <tr>\n",
       "      <th>11</th>\n",
       "      <td>Casual</td>\n",
       "      <td>2.425160</td>\n",
       "    </tr>\n",
       "    <tr>\n",
       "      <th>12</th>\n",
       "      <td>Comics</td>\n",
       "      <td>2.864906</td>\n",
       "    </tr>\n",
       "    <tr>\n",
       "      <th>13</th>\n",
       "      <td>Communication</td>\n",
       "      <td>2.122591</td>\n",
       "    </tr>\n",
       "    <tr>\n",
       "      <th>14</th>\n",
       "      <td>Dating</td>\n",
       "      <td>2.452001</td>\n",
       "    </tr>\n",
       "    <tr>\n",
       "      <th>15</th>\n",
       "      <td>Education</td>\n",
       "      <td>2.246840</td>\n",
       "    </tr>\n",
       "    <tr>\n",
       "      <th>16</th>\n",
       "      <td>Educational</td>\n",
       "      <td>2.437742</td>\n",
       "    </tr>\n",
       "    <tr>\n",
       "      <th>17</th>\n",
       "      <td>Entertainment</td>\n",
       "      <td>2.435346</td>\n",
       "    </tr>\n",
       "    <tr>\n",
       "      <th>18</th>\n",
       "      <td>Events</td>\n",
       "      <td>1.270809</td>\n",
       "    </tr>\n",
       "    <tr>\n",
       "      <th>19</th>\n",
       "      <td>Finance</td>\n",
       "      <td>2.403102</td>\n",
       "    </tr>\n",
       "    <tr>\n",
       "      <th>20</th>\n",
       "      <td>Food &amp; Drink</td>\n",
       "      <td>1.294563</td>\n",
       "    </tr>\n",
       "    <tr>\n",
       "      <th>21</th>\n",
       "      <td>Health &amp; Fitness</td>\n",
       "      <td>1.623777</td>\n",
       "    </tr>\n",
       "    <tr>\n",
       "      <th>22</th>\n",
       "      <td>House &amp; Home</td>\n",
       "      <td>1.485381</td>\n",
       "    </tr>\n",
       "    <tr>\n",
       "      <th>23</th>\n",
       "      <td>Libraries &amp; Demo</td>\n",
       "      <td>2.087115</td>\n",
       "    </tr>\n",
       "    <tr>\n",
       "      <th>24</th>\n",
       "      <td>Lifestyle</td>\n",
       "      <td>1.930376</td>\n",
       "    </tr>\n",
       "    <tr>\n",
       "      <th>25</th>\n",
       "      <td>Maps &amp; Navigation</td>\n",
       "      <td>2.224805</td>\n",
       "    </tr>\n",
       "    <tr>\n",
       "      <th>26</th>\n",
       "      <td>Medical</td>\n",
       "      <td>1.848003</td>\n",
       "    </tr>\n",
       "    <tr>\n",
       "      <th>27</th>\n",
       "      <td>Music</td>\n",
       "      <td>2.662008</td>\n",
       "    </tr>\n",
       "    <tr>\n",
       "      <th>28</th>\n",
       "      <td>Music &amp; Audio</td>\n",
       "      <td>2.226841</td>\n",
       "    </tr>\n",
       "    <tr>\n",
       "      <th>29</th>\n",
       "      <td>News &amp; Magazines</td>\n",
       "      <td>2.483768</td>\n",
       "    </tr>\n",
       "    <tr>\n",
       "      <th>30</th>\n",
       "      <td>Parenting</td>\n",
       "      <td>2.423273</td>\n",
       "    </tr>\n",
       "    <tr>\n",
       "      <th>31</th>\n",
       "      <td>Personalization</td>\n",
       "      <td>2.758754</td>\n",
       "    </tr>\n",
       "    <tr>\n",
       "      <th>32</th>\n",
       "      <td>Photography</td>\n",
       "      <td>2.519765</td>\n",
       "    </tr>\n",
       "    <tr>\n",
       "      <th>33</th>\n",
       "      <td>Productivity</td>\n",
       "      <td>1.937928</td>\n",
       "    </tr>\n",
       "    <tr>\n",
       "      <th>34</th>\n",
       "      <td>Puzzle</td>\n",
       "      <td>2.688279</td>\n",
       "    </tr>\n",
       "    <tr>\n",
       "      <th>35</th>\n",
       "      <td>Racing</td>\n",
       "      <td>2.960385</td>\n",
       "    </tr>\n",
       "    <tr>\n",
       "      <th>36</th>\n",
       "      <td>Role Playing</td>\n",
       "      <td>3.384498</td>\n",
       "    </tr>\n",
       "    <tr>\n",
       "      <th>37</th>\n",
       "      <td>Shopping</td>\n",
       "      <td>1.837001</td>\n",
       "    </tr>\n",
       "    <tr>\n",
       "      <th>38</th>\n",
       "      <td>Simulation</td>\n",
       "      <td>3.210887</td>\n",
       "    </tr>\n",
       "    <tr>\n",
       "      <th>39</th>\n",
       "      <td>Social</td>\n",
       "      <td>2.398867</td>\n",
       "    </tr>\n",
       "    <tr>\n",
       "      <th>40</th>\n",
       "      <td>Sports</td>\n",
       "      <td>2.315545</td>\n",
       "    </tr>\n",
       "    <tr>\n",
       "      <th>41</th>\n",
       "      <td>Strategy</td>\n",
       "      <td>2.878900</td>\n",
       "    </tr>\n",
       "    <tr>\n",
       "      <th>42</th>\n",
       "      <td>Tools</td>\n",
       "      <td>2.346080</td>\n",
       "    </tr>\n",
       "    <tr>\n",
       "      <th>43</th>\n",
       "      <td>Travel &amp; Local</td>\n",
       "      <td>1.921196</td>\n",
       "    </tr>\n",
       "    <tr>\n",
       "      <th>44</th>\n",
       "      <td>Trivia</td>\n",
       "      <td>2.526178</td>\n",
       "    </tr>\n",
       "    <tr>\n",
       "      <th>45</th>\n",
       "      <td>Video Players &amp; Editors</td>\n",
       "      <td>2.903842</td>\n",
       "    </tr>\n",
       "    <tr>\n",
       "      <th>46</th>\n",
       "      <td>Weather</td>\n",
       "      <td>3.120295</td>\n",
       "    </tr>\n",
       "    <tr>\n",
       "      <th>47</th>\n",
       "      <td>Word</td>\n",
       "      <td>2.902076</td>\n",
       "    </tr>\n",
       "  </tbody>\n",
       "</table>\n",
       "</div>"
      ],
      "text/plain": [
       "                   category    rating\n",
       "0                    Action  2.705979\n",
       "1                 Adventure  2.814991\n",
       "2                    Arcade  2.450405\n",
       "3              Art & Design  1.952354\n",
       "4           Auto & Vehicles  2.049613\n",
       "5                    Beauty  1.434105\n",
       "6                     Board  2.782275\n",
       "7         Books & Reference  2.467159\n",
       "8                  Business  1.439082\n",
       "9                      Card  3.085160\n",
       "10                   Casino  3.279682\n",
       "11                   Casual  2.425160\n",
       "12                   Comics  2.864906\n",
       "13            Communication  2.122591\n",
       "14                   Dating  2.452001\n",
       "15                Education  2.246840\n",
       "16              Educational  2.437742\n",
       "17            Entertainment  2.435346\n",
       "18                   Events  1.270809\n",
       "19                  Finance  2.403102\n",
       "20             Food & Drink  1.294563\n",
       "21         Health & Fitness  1.623777\n",
       "22             House & Home  1.485381\n",
       "23         Libraries & Demo  2.087115\n",
       "24                Lifestyle  1.930376\n",
       "25        Maps & Navigation  2.224805\n",
       "26                  Medical  1.848003\n",
       "27                    Music  2.662008\n",
       "28            Music & Audio  2.226841\n",
       "29         News & Magazines  2.483768\n",
       "30                Parenting  2.423273\n",
       "31          Personalization  2.758754\n",
       "32              Photography  2.519765\n",
       "33             Productivity  1.937928\n",
       "34                   Puzzle  2.688279\n",
       "35                   Racing  2.960385\n",
       "36             Role Playing  3.384498\n",
       "37                 Shopping  1.837001\n",
       "38               Simulation  3.210887\n",
       "39                   Social  2.398867\n",
       "40                   Sports  2.315545\n",
       "41                 Strategy  2.878900\n",
       "42                    Tools  2.346080\n",
       "43           Travel & Local  1.921196\n",
       "44                   Trivia  2.526178\n",
       "45  Video Players & Editors  2.903842\n",
       "46                  Weather  3.120295\n",
       "47                     Word  2.902076"
      ]
     },
     "execution_count": 23,
     "metadata": {},
     "output_type": "execute_result"
    }
   ],
   "source": [
    "# Calculate the average rating in each 'Category'\n",
    "average_rating_by_category = df.groupby('category')['rating'].mean().reset_index()\n",
    "average_rating_by_category"
   ]
  },
  {
   "cell_type": "code",
   "execution_count": 24,
   "id": "b640031a-8e5c-481b-b220-77fbb8d09331",
   "metadata": {},
   "outputs": [],
   "source": [
    "# Calculate the average rating in each 'Category'\n",
    "average_ratings = df.groupby('category')['rating'].transform('mean')"
   ]
  },
  {
   "cell_type": "code",
   "execution_count": 25,
   "id": "24aefede-ee54-4909-9ef7-6bbeebeeed68",
   "metadata": {},
   "outputs": [],
   "source": [
    "# Replace missing values in 'Rating' with the respective average ratings of their Category\n",
    "df['rating'] = df['rating'].fillna(average_ratings)"
   ]
  },
  {
   "cell_type": "markdown",
   "id": "09f6658d-31c6-47cf-8f0a-14e877098283",
   "metadata": {},
   "source": [
    "**Rating Count**\n",
    "\n",
    "For rating_count we will replace the respective missing values of rating_count, with respect of the average rating count of their 'Category'"
   ]
  },
  {
   "cell_type": "code",
   "execution_count": 26,
   "id": "be27ae80-ec8e-400d-a2fc-99265e087015",
   "metadata": {},
   "outputs": [
    {
     "data": {
      "text/plain": [
       "22883"
      ]
     },
     "execution_count": 26,
     "metadata": {},
     "output_type": "execute_result"
    }
   ],
   "source": [
    "df['rating_count'].isnull().sum()"
   ]
  },
  {
   "cell_type": "code",
   "execution_count": 27,
   "id": "e222f9ba-3a71-4e78-8382-e2c893e920cf",
   "metadata": {},
   "outputs": [],
   "source": [
    "# Calculate the average rating in each 'Category'\n",
    "average_rating_count = df.groupby('category')['rating_count'].transform('mean')\n",
    "\n",
    "# Replace missing values in 'Rating' with the respective average ratings of their Category\n",
    "df['rating_count'] = df['rating_count'].fillna(average_rating_count)"
   ]
  },
  {
   "cell_type": "markdown",
   "id": "8d11d812-e240-43cf-8ea5-6afb2aebdb2b",
   "metadata": {},
   "source": [
    "**Installs**"
   ]
  },
  {
   "cell_type": "code",
   "execution_count": 28,
   "id": "67584df7-8183-42b0-b65c-c7a63d1ba6b9",
   "metadata": {},
   "outputs": [
    {
     "data": {
      "text/plain": [
       "107"
      ]
     },
     "execution_count": 28,
     "metadata": {},
     "output_type": "execute_result"
    }
   ],
   "source": [
    "df['installs'].isnull().sum()"
   ]
  },
  {
   "cell_type": "code",
   "execution_count": 29,
   "id": "d925de1b-19ff-4e48-b664-3f0cbf6d5173",
   "metadata": {},
   "outputs": [
    {
     "data": {
      "text/plain": [
       "array(['10+', '5,000+', '50+', '100+', '1,000+', '500+', '50,000+',\n",
       "       '10,000+', '1+', '500,000+', '100,000+', '5+', '10,000,000+',\n",
       "       '1,000,000+', '5,000,000+', '0+', '100,000,000+', nan,\n",
       "       '50,000,000+', '1,000,000,000+', '500,000,000+', '5,000,000,000+',\n",
       "       '10,000,000,000+'], dtype=object)"
      ]
     },
     "execution_count": 29,
     "metadata": {},
     "output_type": "execute_result"
    }
   ],
   "source": [
    "# Count the occurrences of each unique value in the 'installs' column using value_counts()\n",
    "df['installs'].unique()"
   ]
  },
  {
   "cell_type": "code",
   "execution_count": 30,
   "id": "322f9d37-38b6-41c5-b5d3-a152e0e796dc",
   "metadata": {},
   "outputs": [],
   "source": [
    "# lets remove the null values in the installs column \n",
    "df.dropna(subset=['installs'], inplace=True)"
   ]
  },
  {
   "cell_type": "code",
   "execution_count": 31,
   "id": "528c3df6-6238-4e3f-80d9-990e46654c05",
   "metadata": {},
   "outputs": [],
   "source": [
    "# remove the plus sign from install column and convert it to numeric\n",
    "df['installs'] = df['installs'].str.replace(',', '').str.replace('+', '')"
   ]
  },
  {
   "cell_type": "code",
   "execution_count": 32,
   "id": "dd636b18-a725-4736-be7f-d008e3a7ef53",
   "metadata": {},
   "outputs": [
    {
     "data": {
      "text/plain": [
       "array(['10', '5000', '50', '100', '1000', '500', '50000', '10000', '1',\n",
       "       '500000', '100000', '5', '10000000', '1000000', '5000000', '0',\n",
       "       '100000000', '50000000', '1000000000', '500000000', '5000000000',\n",
       "       '10000000000'], dtype=object)"
      ]
     },
     "execution_count": 32,
     "metadata": {},
     "output_type": "execute_result"
    }
   ],
   "source": [
    "df['installs'].unique()"
   ]
  },
  {
   "cell_type": "code",
   "execution_count": 33,
   "id": "ffdb0550-1caa-4f53-a4aa-dfdee34e6201",
   "metadata": {},
   "outputs": [],
   "source": [
    "# Convert the 'installs' column to numeric\n",
    "# the errors='coerce' parameter will replace non-convertible values with NaN\n",
    "\n",
    "# df[\"installs\"].astype(\"int64\")\n",
    "\n",
    "df['installs'] = pd.to_numeric(df['installs'], errors='coerce').astype('Int64')"
   ]
  },
  {
   "cell_type": "code",
   "execution_count": 34,
   "id": "bd3d3b34-fa39-494d-95c8-ad7592925e0e",
   "metadata": {},
   "outputs": [
    {
     "data": {
      "text/plain": [
       "[10,\n",
       " 5000,\n",
       " 50,\n",
       " 100,\n",
       " 1000,\n",
       " 500,\n",
       " 50000,\n",
       " 10000,\n",
       " 1,\n",
       " 500000,\n",
       " 100000,\n",
       " 5,\n",
       " 10000000,\n",
       " 1000000,\n",
       " 5000000,\n",
       " 0,\n",
       " 100000000,\n",
       " 50000000,\n",
       " 1000000000,\n",
       " 500000000,\n",
       " 5000000000,\n",
       " 10000000000]"
      ]
     },
     "execution_count": 34,
     "metadata": {},
     "output_type": "execute_result"
    }
   ],
   "source": [
    "df['installs'].unique().tolist()"
   ]
  },
  {
   "cell_type": "markdown",
   "id": "38b77b71-c9e2-4887-ac1d-f9d4a3f2fece",
   "metadata": {},
   "source": [
    "**Currency**"
   ]
  },
  {
   "cell_type": "code",
   "execution_count": 35,
   "id": "9e21bf31-dad6-4577-abba-aaa18f1f507d",
   "metadata": {},
   "outputs": [
    {
     "data": {
      "text/plain": [
       "28"
      ]
     },
     "execution_count": 35,
     "metadata": {},
     "output_type": "execute_result"
    }
   ],
   "source": [
    "df[\"currency\"].isnull().sum()"
   ]
  },
  {
   "cell_type": "code",
   "execution_count": 36,
   "id": "df2d9425-d276-434f-b1a4-08367f8d591c",
   "metadata": {},
   "outputs": [
    {
     "data": {
      "text/plain": [
       "array(['USD', 'XXX', 'CAD', 'EUR', 'INR', 'VND', 'GBP', 'BRL', 'KRW', nan,\n",
       "       'TRY', 'RUB', 'SGD', 'AUD', 'PKR', 'ZAR'], dtype=object)"
      ]
     },
     "execution_count": 36,
     "metadata": {},
     "output_type": "execute_result"
    }
   ],
   "source": [
    "df[\"currency\"].unique()"
   ]
  },
  {
   "cell_type": "code",
   "execution_count": 37,
   "id": "c97a2019-4af9-469a-9d45-76d2033649a1",
   "metadata": {},
   "outputs": [],
   "source": [
    "# Drop rows with missing values in 'currency' column\n",
    "df.dropna(subset=['currency'], inplace=True)"
   ]
  },
  {
   "cell_type": "markdown",
   "id": "80152d7f-b276-4267-906a-d6d7d0bad86e",
   "metadata": {},
   "source": [
    "**Size**"
   ]
  },
  {
   "cell_type": "code",
   "execution_count": 38,
   "id": "162a0782-59f2-4faf-a04c-2687a0a3bee2",
   "metadata": {},
   "outputs": [
    {
     "data": {
      "text/plain": [
       "195"
      ]
     },
     "execution_count": 38,
     "metadata": {},
     "output_type": "execute_result"
    }
   ],
   "source": [
    "df[\"size\"].isnull().sum()"
   ]
  },
  {
   "cell_type": "code",
   "execution_count": 39,
   "id": "9e933413-a215-4785-bdf8-ee009263d1a5",
   "metadata": {},
   "outputs": [
    {
     "name": "stdout",
     "output_type": "stream",
     "text": [
      "['10M', '2.9M', '3.7M', '1.8M', '6.2M', '46M', '2.5M', '16M', '1.3M', '3.5M', '51M', '2.7M', '7.6M', '15M', '29M', '12M', '2.0M', '70M', '11M', '24M', '1.4M', '20M', '2.4M', '25M', '21M', '36M', '6.1M', '2.6M', '8.9M', '3.9M', '30M', '26M', '4.9M', '4.3M', '4.8M', '4.6M', '2.8M', '38M', '5.1M', '147M', '33M', '2.2M', '7.1M', '27M', '18M', '7.7M', '32M', '19M', '39M', '31M', '1.2M', '3.1M', '3.2M', '42M', '22M', '4.1M', '50M', '5.5M', '127k', '8.4M', '41M', '49M', '7.0M', '4.7M', '43M', '5.4M', '3.0M', '1.6M', '2.1M', '37M', '3.6M', '9.0M', '9.9M', '67M', '28M', 'Varies with device', '7.9M', '3.3M', '6.0M', '5.7M', '9.8M', '5.0M', '1.7M', '7.4M', '1.9M', '3.8M', '6.4M', '8.1M', '6.5M', '4.4M', '45M', '7.2M', '13M', '6.9M', '60M', '6.6M', '4.0M', '17M', '4.2M', '58M', '93M', '9.7M', '23M', '52M', '5.6M', '48M', '1.5M', '8.5M', '54M', '62M', '133M', '64M', '152M', '136M', '9.5M', '4.5M', '40M', '531k', '8.0M', '2.3M', '35M', '83M', '7.3M', '6.7M', '9.4M', '69M', '7.5M', '343k', '84M', '5.9M', '6.3M', '1,018k', '34M', '63M', '3.4M', '57M', '14M', '86M', '9.2M', '142M', '6.8M', '9.1M', '9.6M', '44M', '1.0M', '886k', '53M', '91M', '61M', '5.2M', '188k', '5.3M', '8.3M', '8.2M', '79M', '9.3M', '47M', '107M', '8.6M', '95M', '56M', '5.8M', '71M', '78M', '7.8M', '59M', '72M', '8.7M', '200k', '92k', '75M', '966k', '844k', '963k', '151M', '274k', '145M', '8.8M', '82M', '10.0M', '66M', '240k', '101M', '76M', '96M', '139M', '212k', '101k', '125M', '111M', '1.1M', '116M', '94M', '99M', '194k', '89M', '55M', '506k', '85M', '98M', '122M', '88M', '77M', '138k', '659k', '880k', '106M', '87M', '230k', '97M', '989k', '453k', '201M', '28k', '562k', '745k', '68M', '118M', '357k', '74M', '600k', '22k', '73M', '144M', '33k', '250M', '359k', '81M', '112M', '298k', '351k', '1,007k', '145k', '936k', '65M', '25k', '986k', '512k', '102M', '842k', '962k', '497k', '321k', '565k', '946k', '222k', '998k', '82k', '105M', '257k', '390k', '18k', '100M', '727k', '176k', '113M', '531M', '120M', '229k', '141M', '130M', '92M', '90M', '150k', '150M', '136k', '80M', '156M', '449k', '121M', '945k', '969k', '329k', '243k', '143M', '574k', '261k', '917k', '742k', '137M', '159M', '760k', '48k', '815k', '629k', '422M', '77k', '393k', '895k', '813k', '149M', '266k', '134M', '786k', '687k', '251k', '259k', '221k', '803k', '224k', '898k', '66k', '128M', '476k', '253k', '124k', '214k', '24k', '230M', '163k', '1,019k', '228k', '420k', '103M', '631k', '990k', '801k', '57k', '389k', '563k', '205k', '21k', '146M', '567k', '344k', '94k', '750k', '407k', '114M', '912k', '138M', '889k', '445k', '117M', '571k', '810k', '318k', '50k', '805k', '110M', '130k', '743k', '158M', '894k', '808k', '148M', '127M', '588k', '269k', '738k', '109M', '382k', '501k', '282k', '153M', '260k', '405k', '543k', '924k', '162M', '837k', '823k', '826k', '244k', '663k', '119M', '379k', '132M', '595k', '234k', '165M', '104M', '761k', '872k', '143k', '528k', '774k', '648k', '123k', '879k', '433k', '461k', '818k', '140M', '877k', '505k', '901k', '170k', '717k', '106k', '255k', '1,014k', '477k', '316k', '216k', '123M', '723k', '935k', '124M', '1,020k', '173M', '293M', '273k', '256k', '866k', '174M', '918k', '647k', '154k', '157M', '286k', '395k', '573k', '140k', '315k', '827k', '906k', '492k', '934k', '790k', '862k', '135M', '167M', '184M', '755k', '385k', '737k', '86k', '177k', '335M', '79k', '228M', '114k', '188M', '429k', '650k', '980k', '939k', '988k', '129M', '198k', '519k', '762k', '620k', '724k', '132k', '591k', '129k', '154M', '1,002k', '959k', '444k', '757k', '160M', '495k', '164M', '920k', '15k', '721k', '977k', '665k', '941k', '108M', '539k', '12k', '479k', '89k', '510M', '277k', '973k', '697k', '67k', '667k', '346k', '199k', '511k', '617k', '954k', '474k', '548k', '278k', '515k', '131M', '678k', '36k', '483k', '69k', '147k', '876k', '1,022k', '850k', '645k', '394k', '30k', '184k', '176M', '521k', '179k', '243M', '354k', '335k', '749k', '215k', '76k', '885k', '236k', '1,010k', '392k', '994k', '166k', '630k', '117k', '607k', '652k', '218k', '83k', '960k', '968k', '115M', '770k', '206M', '68k', '360k', '848k', '387k', '207k', '457k', '263k', '692k', '220k', '108k', '103k', '896k', '166M', '791k', '58k', '250k', '942k', '851k', '254k', '248M', '536k', '121k', '194M', '578k', '658k', '708k', '589k', '334k', '417k', '41k', '802k', '59k', '922k', '580k', '338k', '674k', '210M', '32k', '42k', '897k', '187M', '753k', '553k', '500k', '219k', '411k', '641k', '892k', '608k', '975k', '414k', '525k', '1,001k', '189k', '178k', '231M', '31k', '759k', '342k', '958k', '919k', '599k', '478k', '157k', '177M', '991k', '305k', '637k', '291k', '893k', '63k', '320k', '1,012k', '765k', '661k', '202M', '871k', '726k', '793k', '830k', '822k', '17k', '1,000k', '180M', '710k', '413k', '763k', '694k', '339k', '853k', '54k', '384k', '284k', '967k', '615k', '540k', '373k', '107k', '514k', '193k', '955k', '736k', '88k', '185M', '646k', '824k', '950k', '785k', '336k', '952k', '292k', '943k', '246k', '719k', '198M', '109k', '61k', '582k', '722M', '937k', '65k', '181k', '155M', '858k', '602k', '11k', '550k', '175k', '29k', '1,023k', '997k', '716k', '834k', '258k', '756k', '927k', '173k', '825k', '700k', '769k', '452k', '110k', '300k', '303k', '463k', '186k', '402k', '44k', '878k', '705k', '778k', '739k', '434k', '189M', '541k', '418k', '794k', '538k', '378k', '227k', '362k', '181M', '764k', '740k', '817k', '549k', '237k', '153k', '881k', '337M', '888k', '672k', '126M', '400k', '164k', '706k', '49k', '287k', '926k', '206k', '729k', '779k', '579k', '404k', '856k', '149k', '209M', '978k', '26k', '287M', '152k', '552k', '233k', '656k', '914k', '933k', nan, '846k', '529k', '485k', '183M', '155k', '800k', '170M', '498k', '611k', '722k', '95k', '113k', '45k', '693k', '280M', '561k', '784k', '191M', '606k', '178M', '331k', '520k', '174k', '780k', '118k', '592k', '141k', '47k', '1,011k', '544k', '701k', '746k', '135k', '53k', '491k', '238k', '375k', '849k', '304k', '216M', '241k', '224M', '450k', '984k', '744k', '586k', '361k', '72k', '861k', '459k', '84k', '40k', '85k', '857k', '649k', '730k', '364M', '172M', '165k', '367k', '618k', '1,015k', '365k', '911k', '905k', '383k', '131k', '720k', '251M', '577k', '523k', '468k', '733k', '192k', '190M', '81k', '306k', '122k', '634k', '410k', '908k', '831k', '353k', '545k', '195k', '272k', '159k', '339M', '73k', '281k', '440k', '455k', '270k', '704k', '712k', '654k', '196M', '466k', '397k', '126k', '146k', '627k', '987k', '619k', '932k', '99k', '343M', '158k', '264k', '197M', '972k', '350k', '279k', '19k', '999k', '156k', '381k', '494k', '100k', '257M', '235k', '782k', '245k', '923k', '944k', '601k', '751k', '1,021k', '195M', '200M', '13k', '212M', '96k', '311k', '252k', '662k', '37k', '151k', '533k', '499k', '271k', '169k', '239k', '199M', '326k', '707k', '836k', '904k', '137k', '513k', '171M', '612k', '931k', '587k', '422k', '312k', '671k', '664k', '182M', '386k', '621k', '283k', '179M', '542k', '409k', '585k', '330k', '203k', '655k', '52k', '299k', '489k', '426k', '115k', '921k', '614k', '983k', '91k', '248k', '554k', '811k', '323k', '406k', '623k', '981k', '993k', '695k', '14k', '371k', '852k', '168k', '325k', '467M', '928M', '670k', '796k', '39k', '516k', '341k', '460k', '358k', '64k', '597k', '70k', '636k', '890k', '337k', '366k', '868k', '676k', '486k', '388k', '613k', '203M', '685k', '635k', '226k', '16k', '268k', '509M', '197k', '1,008k', '974k', '111k', '218M', '875k', '504k', '266M', '46k', '408k', '558k', '470k', '231k', '787k', '660k', '451k', '190k', '713k', '847k', '863k', '900k', '568k', '518k', '462k', '788k', '964k', '416k', '992k', '202k', '867k', '728k', '534k', '572k', '265k', '376k', '419k', '956k', '718k', '930k', '210k', '332k', '698k', '473k', '175M', '421k', '355k', '979k', '843k', '38k', '256M', '234M', '530k', '372k', '575k', '860k', '776k', '163M', '970k', '464k', '102k', '696k', '374k', '289k', '161M', '806k', '23k', '116k', '884k', '322k', '424k', '396k', '546k', '633k', '458k', '482k', '391k', '916k', '249k', '191k', '377k', '1,006M', '789k', '319k', '559k', '51k', '436k', '625k', '472k', '845k', '27k', '1,006k', '870k', '527k', '616k', '456k', '598k', '34k', '679k', '74k', '275k', '288k', '427k', '193M', '208k', '883k', '213k', '699k', '105k', '961k', '324k', '182k', '276k', '1,009k', '215M', '605k', '965k', '976k', '547k', '996k', '242k', '773k', '681k', '596k', '706M', '702k', '332M', '747k', '441k', '399k', '423k', '90k', '873k', '799k', '887k', '225k', '985k', '262k', '185k', '626k', '854k', '995k', '120k', '139k', '560k', '1.5G', '370k', '828k', '953k', '508k', '929k', '403k', '223k', '604k', '677k', '833k', '502k', '814k', '771k', '798k', '369k', '855k', '490k', '565M', '398k', '298M', '213M', '590k', '734k', '902k', '948k', '310k', '475k', '71k', '275M', '807k', '910k', '510k', '686k', '183k', '809k', '55k', '535k', '308M', '471k', '180k', '142k', '947k', '320M', '98k', '172k', '752k', '168M', '368k', '481k', '732k', '610k', '1,004k', '285k', '865k', '285M', '3.3k', '643k', '160k', '951k', '317k', '443k', '509k', '971k', '235M', '201k', '496k', '731k', '569k', '162k', '715k', '437k', '207M', '204M', '594k', '4.7k', '819k', '296k', '233M', '690k', '448k', '832k', '524k', '982k', '772k', '925k', '187k', '280k', '526k', '104k', '622k', '957k', '232k', '265M', '949k', '211k', '675k', '835k', '169M', '254M', '43k', '566k', '20k', '656M', '891k', '768k', '503k', '364k', '284M', '1,013k', '301k', '668k', '327k', '673k', '666k', '192M', '161k', '186M', '532k', '1,016k', '507k', '432k', '6.4k', '838k', '209k', '269M', '564k', '249M', '1,017k', '428k', '909k', '638k', '581k', '56k', '820k', '781k', '859k', '435k', '4.6k', '804k', '297k', '167k', '940k', '570k', '651k', '75k', '6.3k', '78k', '446k', '217k', '709k', '792k', '882k', '840k', '238M', '60k', '348k', '864k', '35k', '338M', '255M', '689k', '349k', '148k', '247k', '313k', '112k', '609k', '293k', '431k', '97k', '624k', '735k', '62k', '299M', '703k', '766k', '252M', '309k', '1,024k', '775k', '783k', '915k', '290k', '10k', '711k', '133k', '557k', '227M', '669k', '328k', '430k', '913k', '841k', '380k', '294k', '412k', '584k', '345k', '425k', '797k', '758k', '262M', '398M', '593k', '302k', '221M', '128k', '628k', '415k', '288M', '442k', '642k', '239M', '741k', '829k', '306M', '493k', '448M', '356k', '261M', '682k', '522k', '324M', '214M', '465k', '640k', '469k', '401k', '812k', '501M', '632k', '657k', '314k', '277M', '267k', '454k', '653k', '360M', '583k', '907k', '237M', '333k', '196k', '80k', '282M', '171k', '985M', '268M', '352k', '869k', '1,005k', '412M', '644k', '508M', '219M', '683k', '691k', '1,003k', '439k', '928k', '556k', '938k', '258M', '9.6k', '276M', '487k', '551k', '144k', '93k', '333M', '295k', '1,020M', '618M', '488k', '874k', '253M', '307k', '841M', '903k', '119k', '313M', '87k', '839k', '576M', '6.1k', '690M', '899k', '748k', '225M', '821k', '347k', '7.8k', '684k', '767k', '304M', '832M', '484k', '10.0k', '8.4k', '297M', '308k', '639k', '1.1G', '777k', '603M', '3.4k', '576k', '134k', '680k', '688k', '490M', '725k', '363k', '226M', '447k', '714k', '954M', '290M', '244M', '497M', '816k', '480k', '517k', '264M', '314M', '295M', '643M', '205M', '456M', '493M', '9.2k', '270M', '603k', '321M', '9.0k', '414M', '754k', '925M', '208M', '245M', '8.5k', '211M', '274M', '555k', '330M', '795k', '537k', '391M', '645M', '652M', '420M', '217M', '467k', '348M', '294M', '447M', '272M', '125k', '383M', '919M', '241M', '204k', '220M', '904M', '222M', '246M', '595M', '1.0G', '485M', '319M', '900M', '361M', '345M', '247M', '7.2k', '895M', '9.7k', '406M', '438k', '309M', '286M', '311M', '322M', '6.8k', '328M', '303M', '331M', '312M', '279M', '818M', '323M', '649M', '317M', '240M', '229M', '300M', '242M', '359M', '495M', '935M', '260M', '564M', '291M', '363M', '375M', '8.9k', '518M', '762M', '7.1k', '491M', '372M', '676M', '684M', '579M', '550M', '9.8k', '407M', '591M', '344M', '232M', '418M', '263M', '7.4k', '346M', '460M', '267M', '843M', '8.7k', '283M', '353M', '784M', '340k', '223M', '385M', '236M', '567M', '7.6k', '868M', '578M', '9.5k', '445M', '351M', '281M', '310M', '292M', '9.1k', '878M', '289M', '544M', '426M', '9.9k', '681M', '347M', '454M', '5.8k', '327M', '606M', '352M', '940M', '390M', '271M', '765M', '6.9k', '566M', '664M', '411M', '680M', '305M', '514M', '409M', '273M', '639M', '296M', '963M', '421M', '457M', '387M', '381M', '318M', '953M', '437M', '611M', '371M', '396M', '377M', '896M', '415M', '468M', '590M', '355M', '593M', '424M', '646M', '527M', '366M', '488M', '301M', '397M', '745M', '465M', '503M', '570M', '869M', '329M', '373M', '340M', '408M', '302M', '705M', '7.7k', '369M', '440M', '679M', '568M', '519M', '580M', '977M', '959M', '981M', '9.3k', '259M', '526M', '379M', '623M', '619M', '278M', '521M', '315M', '844M', '889M', '996M', '365M', '431M', '581M', '334M', '962M', '541M', '799M', '5.1k', '342M', '370M', '532M', '382M', '442M', '737M', '866M', '394M', '914M', '691M', '725M', '461M', '633M', '349M', '700M', '356M', '5.3k', '720M', '744M', '429M', '533M', '8.3k', '810M', '404M', '354M', '769M', '692M', '839M', '830M', '6.2k', '712M', '470M', '910M', '405M', '3.2k', '512M']\n"
     ]
    }
   ],
   "source": [
    "print(df[\"size\"].unique().tolist())"
   ]
  },
  {
   "cell_type": "markdown",
   "id": "4013c3d8-99fb-497f-856b-d7d7ecbd70ee",
   "metadata": {},
   "source": [
    "**Observations**:\n",
    "* There are several uniques values in the size column, we have to first make the unit into one common unit from M and G to K, and then remove the G ,M, and K, and from the values and convert them into numeric data type. Varies with device into NaN\n",
    "\n",
    "* Here, we also notice that some values have , which make it difficult to convert them into bytes so first we remove these commas also"
   ]
  },
  {
   "cell_type": "code",
   "execution_count": 40,
   "id": "f739d4a4-938d-4632-847d-46a22d302875",
   "metadata": {},
   "outputs": [
    {
     "data": {
      "text/plain": [
       "13"
      ]
     },
     "execution_count": 40,
     "metadata": {},
     "output_type": "execute_result"
    }
   ],
   "source": [
    "# find the values in size column which has 'G' in it\n",
    "df['size'].loc[(df['size'].str.contains('G')) & (~df['size'].isna())].value_counts().sum()"
   ]
  },
  {
   "cell_type": "code",
   "execution_count": 41,
   "id": "eaddf421-5848-4905-8e5e-3e354aabc338",
   "metadata": {},
   "outputs": [
    {
     "data": {
      "text/plain": [
       "2201639"
      ]
     },
     "execution_count": 41,
     "metadata": {},
     "output_type": "execute_result"
    }
   ],
   "source": [
    "# find the values in size column which has 'M' in it\n",
    "df['size'].loc[(df['size'].str.contains('M')) & (~df['size'].isna())].value_counts().sum()"
   ]
  },
  {
   "cell_type": "code",
   "execution_count": 42,
   "id": "b909a44b-a9b5-4cb6-ac32-37ae76262be4",
   "metadata": {},
   "outputs": [
    {
     "data": {
      "text/plain": [
       "36251"
      ]
     },
     "execution_count": 42,
     "metadata": {},
     "output_type": "execute_result"
    }
   ],
   "source": [
    "# find the values in size column which has 'k' in it\n",
    "df['size'].loc[(df['size'].str.contains('k')) & (~df['size'].isna())].value_counts().sum()"
   ]
  },
  {
   "cell_type": "code",
   "execution_count": 43,
   "id": "b07c8799-ff73-4b39-8f84-4567608d09fd",
   "metadata": {},
   "outputs": [
    {
     "data": {
      "text/plain": [
       "74706"
      ]
     },
     "execution_count": 43,
     "metadata": {},
     "output_type": "execute_result"
    }
   ],
   "source": [
    "# find the values in size column which has 'Varies with device' in it\n",
    "df['size'].loc[(df['size'].str.contains('Varies with device')) & (~df['size'].isna())].value_counts().sum()"
   ]
  },
  {
   "cell_type": "markdown",
   "id": "6c74b90f-5c6a-4244-a45a-f3e2dd73bb60",
   "metadata": {},
   "source": [
    "* Let's convert the G and M units into k and then remove the G, M and k from the values and convert them into numeric data type."
   ]
  },
  {
   "cell_type": "code",
   "execution_count": 44,
   "id": "586c7d40-5130-434e-8882-a79b95cebb3e",
   "metadata": {},
   "outputs": [
    {
     "data": {
      "text/plain": [
       "0           10M\n",
       "1          2.9M\n",
       "2          3.7M\n",
       "3          1.8M\n",
       "4          6.2M\n",
       "           ... \n",
       "2312939     77M\n",
       "2312940     44M\n",
       "2312941     29M\n",
       "2312942     10M\n",
       "2312943    5.2M\n",
       "Name: size, Length: 2312804, dtype: object"
      ]
     },
     "execution_count": 44,
     "metadata": {},
     "output_type": "execute_result"
    }
   ],
   "source": [
    "df[\"size\"]"
   ]
  },
  {
   "cell_type": "code",
   "execution_count": 45,
   "id": "c550d713-0f8d-48b9-ab93-05edcc79dcb7",
   "metadata": {},
   "outputs": [],
   "source": [
    "# Define a function to convert the 'size' column to numeric\n",
    "def convert_size(size_value):\n",
    "    # add function details here\n",
    "    '''\n",
    "    This function will convert the size column to numeric by multiplying \n",
    "    the values with 1024 if it has 'M' in it and 1024*1024 if it has 'G' in it\n",
    "    If 'Varies with device' is present, it returns NaN.\n",
    "    '''\n",
    "\n",
    "    if isinstance(size_value, str):\n",
    "        # Remove commas from the size values\n",
    "        size_value= size_value.replace(',','')\n",
    "        \n",
    "        if 'k' in size_value:\n",
    "            # Convert to float and remove 'k'\n",
    "            return float(size_value.replace('k', ''))\n",
    "        elif 'M' in size_value:\n",
    "            # Convert to float, remove 'M', and multiply by 1024\n",
    "            return float(size_value.replace('M', '')) * 1024\n",
    "        elif 'G' in size_value:\n",
    "            # Convert to float, remove 'G', and multiply by 1024*1024\n",
    "            return float(size_value.replace('G', '')) * 1024 * 1024\n",
    "        elif 'Varies with device' in size_value:\n",
    "            # If 'Varies with device' is present, return NaN\n",
    "            return np.nan\n",
    "    return size_value"
   ]
  },
  {
   "cell_type": "code",
   "execution_count": 46,
   "id": "c0b1fd40-4d3a-4840-b58d-58203d5f2cba",
   "metadata": {},
   "outputs": [],
   "source": [
    "# Apply the conversion function to the 'size' column in the DataFrame\n",
    "df['size'] = df['size'].apply(convert_size)"
   ]
  },
  {
   "cell_type": "code",
   "execution_count": 47,
   "id": "1f6b7c58-b10e-4cb2-bc39-2f3f9f787969",
   "metadata": {},
   "outputs": [],
   "source": [
    "# rename the column name 'Size' to 'Size_in_bytes'\n",
    "df.rename(columns={'size': 'size_in_KB'}, inplace=True)"
   ]
  },
  {
   "cell_type": "markdown",
   "id": "7b927ef9-02ce-4e0a-823f-12fb7d56f6c3",
   "metadata": {},
   "source": [
    "* For size_in_KB we will replace the respective missing values of size_in_KB, with respect of the average size of their 'Category'"
   ]
  },
  {
   "cell_type": "code",
   "execution_count": 48,
   "id": "d690ecd3-3eec-42ea-8e6b-ed1ffe2e6426",
   "metadata": {},
   "outputs": [
    {
     "data": {
      "text/plain": [
       "74901"
      ]
     },
     "execution_count": 48,
     "metadata": {},
     "output_type": "execute_result"
    }
   ],
   "source": [
    "df['size_in_KB'].isnull().sum()"
   ]
  },
  {
   "cell_type": "code",
   "execution_count": 49,
   "id": "85089380-f780-466c-903b-c172c978d463",
   "metadata": {},
   "outputs": [],
   "source": [
    "# Calculate the average rating in each 'Category'\n",
    "average_size_KB = df.groupby('category')['size_in_KB'].transform('mean')\n",
    "\n",
    "# Replace missing values in 'Rating' with the respective average ratings of their Category\n",
    "df['size_in_KB'] = df['size_in_KB'].fillna(average_size_KB)"
   ]
  },
  {
   "cell_type": "markdown",
   "id": "db30c4d6-bd6f-4c6d-8e16-bb465c177daa",
   "metadata": {},
   "source": [
    "**Released**"
   ]
  },
  {
   "cell_type": "code",
   "execution_count": 50,
   "id": "cdf793ad-e015-4465-ae3e-08e0132139bf",
   "metadata": {},
   "outputs": [
    {
     "data": {
      "text/plain": [
       "0          Feb 26, 2020\n",
       "1          May 21, 2020\n",
       "2           Aug 9, 2019\n",
       "3          Sep 10, 2018\n",
       "4          Feb 21, 2020\n",
       "               ...     \n",
       "2312939             NaN\n",
       "2312940    Jan 17, 2018\n",
       "2312941    Aug 19, 2018\n",
       "2312942     Aug 1, 2016\n",
       "2312943     Aug 9, 2019\n",
       "Name: released, Length: 2312804, dtype: object"
      ]
     },
     "execution_count": 50,
     "metadata": {},
     "output_type": "execute_result"
    }
   ],
   "source": [
    "df[\"released\"]"
   ]
  },
  {
   "cell_type": "code",
   "execution_count": 51,
   "id": "4730effb-72ce-46d9-b054-fc1b48ea5259",
   "metadata": {},
   "outputs": [
    {
     "data": {
      "text/plain": [
       "70951"
      ]
     },
     "execution_count": 51,
     "metadata": {},
     "output_type": "execute_result"
    }
   ],
   "source": [
    "df[\"released\"].isnull().sum()"
   ]
  },
  {
   "cell_type": "code",
   "execution_count": 52,
   "id": "7f4f322c-d360-48b2-b377-443e68abc574",
   "metadata": {},
   "outputs": [
    {
     "data": {
      "text/plain": [
       "array(['Feb 26, 2020', 'May 21, 2020', 'Aug 9, 2019', ..., 'Jun 10, 2010',\n",
       "       'Apr 10, 2010', 'Mar 29, 2010'], dtype=object)"
      ]
     },
     "execution_count": 52,
     "metadata": {},
     "output_type": "execute_result"
    }
   ],
   "source": [
    "df[\"released\"].unique()"
   ]
  },
  {
   "cell_type": "code",
   "execution_count": 53,
   "id": "5ac12948-d170-4f3c-86eb-fb06eebfd91a",
   "metadata": {},
   "outputs": [],
   "source": [
    "# Drop rows with missing values in 'released' column\n",
    "df.dropna(subset=['released'], inplace=True)"
   ]
  },
  {
   "cell_type": "code",
   "execution_count": 54,
   "id": "21ef8d8f-e12f-4049-b2f9-cdab9894dc1e",
   "metadata": {},
   "outputs": [],
   "source": [
    "# convert datatypes to date\n",
    "df[\"released\"] = pd.to_datetime(df[\"released\"])"
   ]
  },
  {
   "cell_type": "markdown",
   "id": "ec3e7dbb-8e3f-4212-aaad-432fd385fb4c",
   "metadata": {},
   "source": [
    "**Price**"
   ]
  },
  {
   "cell_type": "code",
   "execution_count": 55,
   "id": "296e289c-a4fd-4aac-91af-0e7d9aaa5184",
   "metadata": {},
   "outputs": [
    {
     "data": {
      "text/plain": [
       "0"
      ]
     },
     "execution_count": 55,
     "metadata": {},
     "output_type": "execute_result"
    }
   ],
   "source": [
    "df[\"price\"].isnull().sum()"
   ]
  },
  {
   "cell_type": "code",
   "execution_count": 56,
   "id": "437981ca-1998-4912-b961-7118df606067",
   "metadata": {},
   "outputs": [
    {
     "data": {
      "text/plain": [
       "array(['USD', 'XXX', 'CAD', 'EUR', 'INR', 'VND', 'GBP', 'BRL', 'KRW',\n",
       "       'TRY', 'SGD', 'AUD', 'ZAR'], dtype=object)"
      ]
     },
     "execution_count": 56,
     "metadata": {},
     "output_type": "execute_result"
    }
   ],
   "source": [
    "df[\"currency\"].unique()"
   ]
  },
  {
   "cell_type": "code",
   "execution_count": 57,
   "id": "5b30933b-cc2d-4abb-84f3-4150a6af675e",
   "metadata": {},
   "outputs": [
    {
     "data": {
      "text/plain": [
       "dtype('float64')"
      ]
     },
     "execution_count": 57,
     "metadata": {},
     "output_type": "execute_result"
    }
   ],
   "source": [
    "df[\"price\"].dtype"
   ]
  },
  {
   "cell_type": "code",
   "execution_count": 58,
   "id": "280040c6-ba60-4437-a575-e55ab22168a8",
   "metadata": {},
   "outputs": [],
   "source": [
    "# conversion rates to USD\n",
    "conversion_rate_to_usd = {\n",
    "    \"CAD\": 0.70,\n",
    "    \"EUR\": 1.05,\n",
    "    \"INR\": 0.012,\n",
    "    \"VND\": 0.000040,\n",
    "    \"GBP\": 1.24,\n",
    "    \"BRL\": 0.17,\n",
    "    \"KRW\": 0.00070,\n",
    "    \"TRY\": 0.028,\n",
    "    \"SGD\": 0.74,\n",
    "    \"AUD\": 0.63,\n",
    "    \"ZAR\": 0.055,    \n",
    "}\n",
    "\n",
    "# to convert each price to USD base on the currency\n",
    "def convert_to_usd(row):\n",
    "    rate = conversion_rate_to_usd.get(row[\"currency\"], 1)\n",
    "    return row[\"price\"] * rate"
   ]
  },
  {
   "cell_type": "code",
   "execution_count": 59,
   "id": "053d2e59-5eeb-4abd-a87f-fc562f3b6eb5",
   "metadata": {},
   "outputs": [],
   "source": [
    "df[\"price_in_usd\"] = df.apply(convert_to_usd, axis=1)"
   ]
  },
  {
   "cell_type": "markdown",
   "id": "d9d60c70-6247-4763-9af9-1a22698030c6",
   "metadata": {},
   "source": [
    "## 4.0 Feature Engineering\n",
    "- Feature Extraction\n",
    "- Feature Deletion"
   ]
  },
  {
   "cell_type": "markdown",
   "id": "1f453834-159f-49af-bd1a-760181312d6e",
   "metadata": {},
   "source": [
    "#### - Create a Column `Installs Category`"
   ]
  },
  {
   "cell_type": "code",
   "execution_count": 60,
   "id": "37c165c4-943d-4ab5-acd3-be6682cf5dca",
   "metadata": {},
   "outputs": [
    {
     "data": {
      "text/plain": [
       "0            10\n",
       "1          5000\n",
       "2            50\n",
       "3            10\n",
       "4           100\n",
       "           ... \n",
       "2312938    1000\n",
       "2312940     100\n",
       "2312941     100\n",
       "2312942    1000\n",
       "2312943     100\n",
       "Name: installs, Length: 2241853, dtype: Int64"
      ]
     },
     "execution_count": 60,
     "metadata": {},
     "output_type": "execute_result"
    }
   ],
   "source": [
    "df['installs']"
   ]
  },
  {
   "cell_type": "code",
   "execution_count": 61,
   "id": "33ec2644-c795-410f-a34f-9913c7c8a3e0",
   "metadata": {},
   "outputs": [
    {
     "data": {
      "text/plain": [
       "[10,\n",
       " 5000,\n",
       " 50,\n",
       " 100,\n",
       " 1000,\n",
       " 500,\n",
       " 50000,\n",
       " 10000,\n",
       " 1,\n",
       " 500000,\n",
       " 100000,\n",
       " 5,\n",
       " 10000000,\n",
       " 1000000,\n",
       " 5000000,\n",
       " 0,\n",
       " 100000000,\n",
       " 50000000,\n",
       " 1000000000,\n",
       " 500000000,\n",
       " 5000000000,\n",
       " 10000000000]"
      ]
     },
     "execution_count": 61,
     "metadata": {},
     "output_type": "execute_result"
    }
   ],
   "source": [
    "# Count the occurrences of each unique value in the 'installs' column and display the result\n",
    "df['installs'].unique().tolist()"
   ]
  },
  {
   "cell_type": "code",
   "execution_count": 62,
   "id": "a9f00da5-c2d4-4130-8c18-8cb9078a0623",
   "metadata": {},
   "outputs": [],
   "source": [
    "# create a function to label each install category\n",
    "def install_category_label(value):\n",
    "    if value >= 0 and value <= 10:\n",
    "        return \"0-10\"\n",
    "    elif value >= 10 and value <= 100:\n",
    "        return \"10-100\"\n",
    "    elif value >= 100 and value <= 1000:\n",
    "        return \"100-1K\"\n",
    "    elif value >= 1000 and value <= 10000:\n",
    "        return \"1K-10K\"\n",
    "    elif value >= 10000 and value <= 100000:\n",
    "        return \"10K-100K\"\n",
    "    elif value >= 100000 and value <= 1000000:\n",
    "        return \"100K-1M\"\n",
    "    elif value >= 1000000 and value <= 10000000:\n",
    "        return \"1M-10M\"\n",
    "    elif value >= 10000000 and value <= 100000000:\n",
    "        return \"10M-100M\"\n",
    "    elif value >= 100000000 and value <= 1000000000:\n",
    "        return \"100M-1B\"\n",
    "    elif value > 1000000000:\n",
    "        return \"1B+\"\n",
    "    else:\n",
    "        return np.nan"
   ]
  },
  {
   "cell_type": "code",
   "execution_count": 63,
   "id": "1c504585-430b-4b66-9a5d-d3fac3c0cf85",
   "metadata": {},
   "outputs": [],
   "source": [
    "# Create 'Installs_Category' \n",
    "df['installs_category'] = df['installs'].apply(install_category_label)"
   ]
  },
  {
   "cell_type": "code",
   "execution_count": 64,
   "id": "a19fd977-3bc5-4ca7-aa5d-5e6db4fcc0d4",
   "metadata": {},
   "outputs": [
    {
     "data": {
      "text/plain": [
       "installs_category\n",
       "10-100      595604\n",
       "100-1K      571275\n",
       "0-10        432772\n",
       "1K-10K      389527\n",
       "10K-100K    180203\n",
       "100K-1M      58678\n",
       "1M-10M       12359\n",
       "10M-100M      1308\n",
       "100M-1B        115\n",
       "1B+             12\n",
       "Name: count, dtype: int64"
      ]
     },
     "execution_count": 64,
     "metadata": {},
     "output_type": "execute_result"
    }
   ],
   "source": [
    "# showing the counts for each category\n",
    "df['installs_category'].value_counts()"
   ]
  },
  {
   "cell_type": "markdown",
   "id": "2ca887ae-6db7-4516-9be3-ff066d3e33c4",
   "metadata": {},
   "source": [
    "**Free**"
   ]
  },
  {
   "cell_type": "code",
   "execution_count": 65,
   "id": "faac60b7-f5c2-4f7e-be13-bac4031ac70a",
   "metadata": {},
   "outputs": [
    {
     "data": {
      "text/plain": [
       "array([ True, False])"
      ]
     },
     "execution_count": 65,
     "metadata": {},
     "output_type": "execute_result"
    }
   ],
   "source": [
    "df[\"free\"].unique()"
   ]
  },
  {
   "cell_type": "markdown",
   "id": "8e63e849-cf81-45e6-b6fe-89513cfe0ba6",
   "metadata": {},
   "source": [
    "#### - Create column `Type`"
   ]
  },
  {
   "cell_type": "markdown",
   "id": "91f62ab1-5938-4b5f-b100-5c6ed279856b",
   "metadata": {},
   "source": [
    "* Creataing the column type for free and paid Apps by using the Free column, it's helpfull while dealing with the paid and Free Apps"
   ]
  },
  {
   "cell_type": "code",
   "execution_count": 66,
   "id": "d752b9b9-36b0-4366-90c4-bedbe56ab9ad",
   "metadata": {},
   "outputs": [],
   "source": [
    "# creating type column\n",
    "df['type'] = np.where(df['free'] == True,'Free','Paid')"
   ]
  },
  {
   "cell_type": "code",
   "execution_count": 67,
   "id": "88ece881-8f31-48a9-9061-31df402f2f92",
   "metadata": {},
   "outputs": [
    {
     "data": {
      "text/plain": [
       "app_name             0\n",
       "category             0\n",
       "rating               0\n",
       "rating_count         0\n",
       "installs             0\n",
       "minimum_installs     0\n",
       "maximum_installs     0\n",
       "free                 0\n",
       "price                0\n",
       "currency             0\n",
       "size_in_KB           0\n",
       "released             0\n",
       "last_updated         0\n",
       "content_rating       0\n",
       "ad_supported         0\n",
       "in_app_purchases     0\n",
       "price_in_usd         0\n",
       "installs_category    0\n",
       "type                 0\n",
       "dtype: int64"
      ]
     },
     "execution_count": 67,
     "metadata": {},
     "output_type": "execute_result"
    }
   ],
   "source": [
    "df.isnull().sum()"
   ]
  },
  {
   "cell_type": "markdown",
   "id": "56cc833b-0994-4a5d-af14-4dea6d007b52",
   "metadata": {},
   "source": [
    "### Data cleaning summary\n",
    "What we have done till now:\n",
    "- Drop the columns that are not important\n",
    "- Clean the size column then convert it into float64. I also make a new column called size_in_MB\n",
    "- Clean the installs column and convert it into Int\n",
    "- Deal with inconsistency and Missing values\n",
    "- Add a column installs_category based on installs"
   ]
  },
  {
   "cell_type": "markdown",
   "id": "3160f2aa-181a-4752-9a00-f2dbd1f733d8",
   "metadata": {},
   "source": [
    "## 5.0 Analysis\n",
    "\n",
    "**Questions**\n",
    "\n",
    "1. Top 10 Rated Apps\n",
    "2. All Category with number of apps and top 10 categories by installs?\n",
    "3. How many individuals are observed to provide ratings or not, and for those who do, what is the most common rating?\n",
    "4. Number of installed app, type wise according to each category?\n",
    "5. Which is the percentage of Paid and Free apps?\n",
    "6. Which Category has the highest Paid and Free apps?\n",
    "7. What are the top 10 Categories that are installed from the Google Play Store ?\n",
    "8. Which are the Categories that are getting installed the most in top 10 Categories?\n",
    "9. What is the higest rated Category ?\n",
    "10. Which Category has the highest Paid and Free apps ?\n",
    "11. How does the size of the Application impacts the Installation ?\n",
    "12. What are the Top 5 Paid Apps based With highest ratings and installs ?\n",
    "13. What are the Top 5 Free Apps based With highest ratings and installs ?"
   ]
  },
  {
   "cell_type": "code",
   "execution_count": 69,
   "id": "1c6ca0aa-d76f-4317-9bf7-e513353746a3",
   "metadata": {},
   "outputs": [
    {
     "name": "stdout",
     "output_type": "stream",
     "text": [
      "Top 10 Rated Apps:\n"
     ]
    }
   ],
   "source": [
    "top_rated_apps = df.sort_values(by='rating_count', ascending=False).head(10)[['app_name', 'rating', 'category']]\n",
    "\n",
    "# Step 4: Print a message indicating that the following apps are the top 10 rated\n",
    "print(\"Top 10 Rated Apps:\")\n",
    "\n",
    "\n"
   ]
  },
  {
   "cell_type": "code",
   "execution_count": null,
   "id": "fca42b3a-f424-4c9e-ab7d-38e662aa9b30",
   "metadata": {},
   "outputs": [],
   "source": [
    "# Step 5: Display the DataFrame containing the top-rated apps\n",
    "top_rated_apps"
   ]
  },
  {
   "cell_type": "code",
   "execution_count": 70,
   "id": "2d0d2e7a-f49c-4b55-b54d-16122da78978",
   "metadata": {},
   "outputs": [
    {
     "data": {
      "text/html": [
       "<div>\n",
       "<style scoped>\n",
       "    .dataframe tbody tr th:only-of-type {\n",
       "        vertical-align: middle;\n",
       "    }\n",
       "\n",
       "    .dataframe tbody tr th {\n",
       "        vertical-align: top;\n",
       "    }\n",
       "\n",
       "    .dataframe thead th {\n",
       "        text-align: right;\n",
       "    }\n",
       "</style>\n",
       "<table border=\"1\" class=\"dataframe\">\n",
       "  <thead>\n",
       "    <tr style=\"text-align: right;\">\n",
       "      <th></th>\n",
       "      <th>app_name</th>\n",
       "      <th>category</th>\n",
       "      <th>rating</th>\n",
       "      <th>rating_count</th>\n",
       "      <th>installs</th>\n",
       "      <th>minimum_installs</th>\n",
       "      <th>maximum_installs</th>\n",
       "      <th>free</th>\n",
       "      <th>price</th>\n",
       "      <th>currency</th>\n",
       "      <th>size_in_KB</th>\n",
       "      <th>released</th>\n",
       "      <th>last_updated</th>\n",
       "      <th>content_rating</th>\n",
       "      <th>ad_supported</th>\n",
       "      <th>in_app_purchases</th>\n",
       "      <th>price_in_usd</th>\n",
       "      <th>installs_category</th>\n",
       "      <th>type</th>\n",
       "    </tr>\n",
       "  </thead>\n",
       "  <tbody>\n",
       "    <tr>\n",
       "      <th>0</th>\n",
       "      <td>Gakondo</td>\n",
       "      <td>Adventure</td>\n",
       "      <td>0.0</td>\n",
       "      <td>0.0</td>\n",
       "      <td>10</td>\n",
       "      <td>10.0</td>\n",
       "      <td>15</td>\n",
       "      <td>True</td>\n",
       "      <td>0.0</td>\n",
       "      <td>USD</td>\n",
       "      <td>10240.0</td>\n",
       "      <td>2020-02-26</td>\n",
       "      <td>Feb 26, 2020</td>\n",
       "      <td>Everyone</td>\n",
       "      <td>False</td>\n",
       "      <td>False</td>\n",
       "      <td>0.0</td>\n",
       "      <td>0-10</td>\n",
       "      <td>Free</td>\n",
       "    </tr>\n",
       "    <tr>\n",
       "      <th>1</th>\n",
       "      <td>Ampere Battery Info</td>\n",
       "      <td>Tools</td>\n",
       "      <td>4.4</td>\n",
       "      <td>64.0</td>\n",
       "      <td>5000</td>\n",
       "      <td>5000.0</td>\n",
       "      <td>7662</td>\n",
       "      <td>True</td>\n",
       "      <td>0.0</td>\n",
       "      <td>USD</td>\n",
       "      <td>2969.6</td>\n",
       "      <td>2020-05-21</td>\n",
       "      <td>May 06, 2021</td>\n",
       "      <td>Everyone</td>\n",
       "      <td>True</td>\n",
       "      <td>False</td>\n",
       "      <td>0.0</td>\n",
       "      <td>1K-10K</td>\n",
       "      <td>Free</td>\n",
       "    </tr>\n",
       "    <tr>\n",
       "      <th>2</th>\n",
       "      <td>Vibook</td>\n",
       "      <td>Productivity</td>\n",
       "      <td>0.0</td>\n",
       "      <td>0.0</td>\n",
       "      <td>50</td>\n",
       "      <td>50.0</td>\n",
       "      <td>58</td>\n",
       "      <td>True</td>\n",
       "      <td>0.0</td>\n",
       "      <td>USD</td>\n",
       "      <td>3788.8</td>\n",
       "      <td>2019-08-09</td>\n",
       "      <td>Aug 19, 2019</td>\n",
       "      <td>Everyone</td>\n",
       "      <td>False</td>\n",
       "      <td>False</td>\n",
       "      <td>0.0</td>\n",
       "      <td>10-100</td>\n",
       "      <td>Free</td>\n",
       "    </tr>\n",
       "    <tr>\n",
       "      <th>3</th>\n",
       "      <td>Smart City Trichy Public Service Vehicles 17UC...</td>\n",
       "      <td>Communication</td>\n",
       "      <td>5.0</td>\n",
       "      <td>5.0</td>\n",
       "      <td>10</td>\n",
       "      <td>10.0</td>\n",
       "      <td>19</td>\n",
       "      <td>True</td>\n",
       "      <td>0.0</td>\n",
       "      <td>USD</td>\n",
       "      <td>1843.2</td>\n",
       "      <td>2018-09-10</td>\n",
       "      <td>Oct 13, 2018</td>\n",
       "      <td>Everyone</td>\n",
       "      <td>True</td>\n",
       "      <td>False</td>\n",
       "      <td>0.0</td>\n",
       "      <td>0-10</td>\n",
       "      <td>Free</td>\n",
       "    </tr>\n",
       "    <tr>\n",
       "      <th>4</th>\n",
       "      <td>GROW.me</td>\n",
       "      <td>Tools</td>\n",
       "      <td>0.0</td>\n",
       "      <td>0.0</td>\n",
       "      <td>100</td>\n",
       "      <td>100.0</td>\n",
       "      <td>478</td>\n",
       "      <td>True</td>\n",
       "      <td>0.0</td>\n",
       "      <td>USD</td>\n",
       "      <td>6348.8</td>\n",
       "      <td>2020-02-21</td>\n",
       "      <td>Nov 12, 2018</td>\n",
       "      <td>Everyone</td>\n",
       "      <td>False</td>\n",
       "      <td>False</td>\n",
       "      <td>0.0</td>\n",
       "      <td>10-100</td>\n",
       "      <td>Free</td>\n",
       "    </tr>\n",
       "  </tbody>\n",
       "</table>\n",
       "</div>"
      ],
      "text/plain": [
       "                                            app_name       category  rating  \\\n",
       "0                                            Gakondo      Adventure     0.0   \n",
       "1                                Ampere Battery Info          Tools     4.4   \n",
       "2                                             Vibook   Productivity     0.0   \n",
       "3  Smart City Trichy Public Service Vehicles 17UC...  Communication     5.0   \n",
       "4                                            GROW.me          Tools     0.0   \n",
       "\n",
       "   rating_count  installs  minimum_installs  maximum_installs  free  price  \\\n",
       "0           0.0        10              10.0                15  True    0.0   \n",
       "1          64.0      5000            5000.0              7662  True    0.0   \n",
       "2           0.0        50              50.0                58  True    0.0   \n",
       "3           5.0        10              10.0                19  True    0.0   \n",
       "4           0.0       100             100.0               478  True    0.0   \n",
       "\n",
       "  currency  size_in_KB   released  last_updated content_rating  ad_supported  \\\n",
       "0      USD     10240.0 2020-02-26  Feb 26, 2020       Everyone         False   \n",
       "1      USD      2969.6 2020-05-21  May 06, 2021       Everyone          True   \n",
       "2      USD      3788.8 2019-08-09  Aug 19, 2019       Everyone         False   \n",
       "3      USD      1843.2 2018-09-10  Oct 13, 2018       Everyone          True   \n",
       "4      USD      6348.8 2020-02-21  Nov 12, 2018       Everyone         False   \n",
       "\n",
       "   in_app_purchases  price_in_usd installs_category  type  \n",
       "0             False           0.0              0-10  Free  \n",
       "1             False           0.0            1K-10K  Free  \n",
       "2             False           0.0            10-100  Free  \n",
       "3             False           0.0              0-10  Free  \n",
       "4             False           0.0            10-100  Free  "
      ]
     },
     "execution_count": 70,
     "metadata": {},
     "output_type": "execute_result"
    }
   ],
   "source": [
    "df.head()"
   ]
  },
  {
   "cell_type": "markdown",
   "id": "aef21c0d-392c-41aa-94bc-8b5e783bae3c",
   "metadata": {},
   "source": [
    "## Top 10 Rated Apps"
   ]
  },
  {
   "cell_type": "code",
   "execution_count": 95,
   "id": "50d9a321-850d-4cb5-863b-c02f4388aaf6",
   "metadata": {},
   "outputs": [],
   "source": [
    "top_10_rated_apps = df.nlargest(10, df[['rating','rating_count']])"
   ]
  },
  {
   "cell_type": "code",
   "execution_count": 96,
   "id": "556dbb26-53f9-40a3-8f50-21d7b868f9bf",
   "metadata": {},
   "outputs": [
    {
     "data": {
      "text/html": [
       "<div>\n",
       "<style scoped>\n",
       "    .dataframe tbody tr th:only-of-type {\n",
       "        vertical-align: middle;\n",
       "    }\n",
       "\n",
       "    .dataframe tbody tr th {\n",
       "        vertical-align: top;\n",
       "    }\n",
       "\n",
       "    .dataframe thead th {\n",
       "        text-align: right;\n",
       "    }\n",
       "</style>\n",
       "<table border=\"1\" class=\"dataframe\">\n",
       "  <thead>\n",
       "    <tr style=\"text-align: right;\">\n",
       "      <th></th>\n",
       "      <th>app_name</th>\n",
       "      <th>category</th>\n",
       "      <th>rating</th>\n",
       "      <th>rating_count</th>\n",
       "      <th>installs</th>\n",
       "      <th>minimum_installs</th>\n",
       "      <th>maximum_installs</th>\n",
       "      <th>free</th>\n",
       "      <th>price</th>\n",
       "      <th>currency</th>\n",
       "      <th>size_in_KB</th>\n",
       "      <th>released</th>\n",
       "      <th>last_updated</th>\n",
       "      <th>content_rating</th>\n",
       "      <th>ad_supported</th>\n",
       "      <th>in_app_purchases</th>\n",
       "      <th>price_in_usd</th>\n",
       "      <th>installs_category</th>\n",
       "      <th>type</th>\n",
       "    </tr>\n",
       "  </thead>\n",
       "  <tbody>\n",
       "    <tr>\n",
       "      <th>845049</th>\n",
       "      <td>STUDiLMU: Your One-stop Solution Learning Partner</td>\n",
       "      <td>Education</td>\n",
       "      <td>5.0</td>\n",
       "      <td>42908.0</td>\n",
       "      <td>100000</td>\n",
       "      <td>100000.0</td>\n",
       "      <td>167910</td>\n",
       "      <td>True</td>\n",
       "      <td>0.00</td>\n",
       "      <td>USD</td>\n",
       "      <td>20121.435744</td>\n",
       "      <td>2020-01-14</td>\n",
       "      <td>Jun 14, 2021</td>\n",
       "      <td>Everyone</td>\n",
       "      <td>False</td>\n",
       "      <td>False</td>\n",
       "      <td>0.00</td>\n",
       "      <td>10K-100K</td>\n",
       "      <td>Free</td>\n",
       "    </tr>\n",
       "    <tr>\n",
       "      <th>391472</th>\n",
       "      <td>Crazy Fall</td>\n",
       "      <td>Casual</td>\n",
       "      <td>5.0</td>\n",
       "      <td>32370.0</td>\n",
       "      <td>10000</td>\n",
       "      <td>10000.0</td>\n",
       "      <td>37517</td>\n",
       "      <td>True</td>\n",
       "      <td>0.00</td>\n",
       "      <td>USD</td>\n",
       "      <td>14336.000000</td>\n",
       "      <td>2020-02-07</td>\n",
       "      <td>Feb 07, 2020</td>\n",
       "      <td>Everyone</td>\n",
       "      <td>True</td>\n",
       "      <td>False</td>\n",
       "      <td>0.00</td>\n",
       "      <td>1K-10K</td>\n",
       "      <td>Free</td>\n",
       "    </tr>\n",
       "    <tr>\n",
       "      <th>771566</th>\n",
       "      <td>Calculator Plus</td>\n",
       "      <td>Productivity</td>\n",
       "      <td>5.0</td>\n",
       "      <td>23856.0</td>\n",
       "      <td>100000</td>\n",
       "      <td>100000.0</td>\n",
       "      <td>170485</td>\n",
       "      <td>False</td>\n",
       "      <td>2.99</td>\n",
       "      <td>USD</td>\n",
       "      <td>12288.000000</td>\n",
       "      <td>2012-10-04</td>\n",
       "      <td>Jan 27, 2021</td>\n",
       "      <td>Everyone</td>\n",
       "      <td>False</td>\n",
       "      <td>False</td>\n",
       "      <td>2.99</td>\n",
       "      <td>10K-100K</td>\n",
       "      <td>Paid</td>\n",
       "    </tr>\n",
       "    <tr>\n",
       "      <th>252450</th>\n",
       "      <td>白沙屯媽祖 GPS 即時定位</td>\n",
       "      <td>Maps &amp; Navigation</td>\n",
       "      <td>5.0</td>\n",
       "      <td>18839.0</td>\n",
       "      <td>100000</td>\n",
       "      <td>100000.0</td>\n",
       "      <td>249857</td>\n",
       "      <td>True</td>\n",
       "      <td>0.00</td>\n",
       "      <td>USD</td>\n",
       "      <td>4608.000000</td>\n",
       "      <td>2019-03-16</td>\n",
       "      <td>Apr 14, 2021</td>\n",
       "      <td>Everyone</td>\n",
       "      <td>False</td>\n",
       "      <td>False</td>\n",
       "      <td>0.00</td>\n",
       "      <td>10K-100K</td>\n",
       "      <td>Free</td>\n",
       "    </tr>\n",
       "    <tr>\n",
       "      <th>609994</th>\n",
       "      <td>Жәннат Фирдаус - Намаз, Құран оқуды үйрену</td>\n",
       "      <td>Education</td>\n",
       "      <td>5.0</td>\n",
       "      <td>18031.0</td>\n",
       "      <td>100000</td>\n",
       "      <td>100000.0</td>\n",
       "      <td>218442</td>\n",
       "      <td>True</td>\n",
       "      <td>0.00</td>\n",
       "      <td>USD</td>\n",
       "      <td>57344.000000</td>\n",
       "      <td>2019-11-28</td>\n",
       "      <td>May 20, 2021</td>\n",
       "      <td>Everyone</td>\n",
       "      <td>False</td>\n",
       "      <td>False</td>\n",
       "      <td>0.00</td>\n",
       "      <td>10K-100K</td>\n",
       "      <td>Free</td>\n",
       "    </tr>\n",
       "    <tr>\n",
       "      <th>2134769</th>\n",
       "      <td>Last Bird Trip - Free Flappy Birdie Arcade Game</td>\n",
       "      <td>Arcade</td>\n",
       "      <td>5.0</td>\n",
       "      <td>12901.0</td>\n",
       "      <td>500000</td>\n",
       "      <td>500000.0</td>\n",
       "      <td>616587</td>\n",
       "      <td>True</td>\n",
       "      <td>0.00</td>\n",
       "      <td>USD</td>\n",
       "      <td>25600.000000</td>\n",
       "      <td>2021-03-09</td>\n",
       "      <td>May 27, 2021</td>\n",
       "      <td>Everyone</td>\n",
       "      <td>False</td>\n",
       "      <td>False</td>\n",
       "      <td>0.00</td>\n",
       "      <td>100K-1M</td>\n",
       "      <td>Free</td>\n",
       "    </tr>\n",
       "    <tr>\n",
       "      <th>1479168</th>\n",
       "      <td>Hayalhanem</td>\n",
       "      <td>Education</td>\n",
       "      <td>5.0</td>\n",
       "      <td>11444.0</td>\n",
       "      <td>100000</td>\n",
       "      <td>100000.0</td>\n",
       "      <td>166266</td>\n",
       "      <td>True</td>\n",
       "      <td>0.00</td>\n",
       "      <td>USD</td>\n",
       "      <td>3276.800000</td>\n",
       "      <td>2015-02-15</td>\n",
       "      <td>Dec 17, 2019</td>\n",
       "      <td>Everyone</td>\n",
       "      <td>False</td>\n",
       "      <td>False</td>\n",
       "      <td>0.00</td>\n",
       "      <td>10K-100K</td>\n",
       "      <td>Free</td>\n",
       "    </tr>\n",
       "    <tr>\n",
       "      <th>530856</th>\n",
       "      <td>21 Dias de Jejum (Jejum de Daniel)</td>\n",
       "      <td>Education</td>\n",
       "      <td>5.0</td>\n",
       "      <td>10990.0</td>\n",
       "      <td>100000</td>\n",
       "      <td>100000.0</td>\n",
       "      <td>419068</td>\n",
       "      <td>True</td>\n",
       "      <td>0.00</td>\n",
       "      <td>USD</td>\n",
       "      <td>48128.000000</td>\n",
       "      <td>2017-08-13</td>\n",
       "      <td>Apr 19, 2021</td>\n",
       "      <td>Everyone</td>\n",
       "      <td>True</td>\n",
       "      <td>True</td>\n",
       "      <td>0.00</td>\n",
       "      <td>10K-100K</td>\n",
       "      <td>Free</td>\n",
       "    </tr>\n",
       "    <tr>\n",
       "      <th>2149894</th>\n",
       "      <td>꾸매영 (꾸준하게 매일 빡세게 영어): 무료로 영어공부, 영어회화로 영어스피킹, 영...</td>\n",
       "      <td>Education</td>\n",
       "      <td>5.0</td>\n",
       "      <td>10289.0</td>\n",
       "      <td>100000</td>\n",
       "      <td>100000.0</td>\n",
       "      <td>269971</td>\n",
       "      <td>True</td>\n",
       "      <td>0.00</td>\n",
       "      <td>USD</td>\n",
       "      <td>13312.000000</td>\n",
       "      <td>2017-06-25</td>\n",
       "      <td>Mar 28, 2021</td>\n",
       "      <td>Teen</td>\n",
       "      <td>True</td>\n",
       "      <td>True</td>\n",
       "      <td>0.00</td>\n",
       "      <td>10K-100K</td>\n",
       "      <td>Free</td>\n",
       "    </tr>\n",
       "    <tr>\n",
       "      <th>1034070</th>\n",
       "      <td>Babel Novel - Fantastic Books &amp; Webnovel Reading</td>\n",
       "      <td>Books &amp; Reference</td>\n",
       "      <td>5.0</td>\n",
       "      <td>10181.0</td>\n",
       "      <td>1000000</td>\n",
       "      <td>1000000.0</td>\n",
       "      <td>1323485</td>\n",
       "      <td>True</td>\n",
       "      <td>0.00</td>\n",
       "      <td>USD</td>\n",
       "      <td>16384.000000</td>\n",
       "      <td>2019-11-14</td>\n",
       "      <td>Jun 10, 2021</td>\n",
       "      <td>Mature 17+</td>\n",
       "      <td>False</td>\n",
       "      <td>True</td>\n",
       "      <td>0.00</td>\n",
       "      <td>100K-1M</td>\n",
       "      <td>Free</td>\n",
       "    </tr>\n",
       "  </tbody>\n",
       "</table>\n",
       "</div>"
      ],
      "text/plain": [
       "                                                  app_name           category  \\\n",
       "845049   STUDiLMU: Your One-stop Solution Learning Partner          Education   \n",
       "391472                                          Crazy Fall             Casual   \n",
       "771566                                     Calculator Plus       Productivity   \n",
       "252450                                      白沙屯媽祖 GPS 即時定位  Maps & Navigation   \n",
       "609994          Жәннат Фирдаус - Намаз, Құран оқуды үйрену          Education   \n",
       "2134769    Last Bird Trip - Free Flappy Birdie Arcade Game             Arcade   \n",
       "1479168                                         Hayalhanem          Education   \n",
       "530856                  21 Dias de Jejum (Jejum de Daniel)          Education   \n",
       "2149894  꾸매영 (꾸준하게 매일 빡세게 영어): 무료로 영어공부, 영어회화로 영어스피킹, 영...          Education   \n",
       "1034070   Babel Novel - Fantastic Books & Webnovel Reading  Books & Reference   \n",
       "\n",
       "         rating  rating_count  installs  minimum_installs  maximum_installs  \\\n",
       "845049      5.0       42908.0    100000          100000.0            167910   \n",
       "391472      5.0       32370.0     10000           10000.0             37517   \n",
       "771566      5.0       23856.0    100000          100000.0            170485   \n",
       "252450      5.0       18839.0    100000          100000.0            249857   \n",
       "609994      5.0       18031.0    100000          100000.0            218442   \n",
       "2134769     5.0       12901.0    500000          500000.0            616587   \n",
       "1479168     5.0       11444.0    100000          100000.0            166266   \n",
       "530856      5.0       10990.0    100000          100000.0            419068   \n",
       "2149894     5.0       10289.0    100000          100000.0            269971   \n",
       "1034070     5.0       10181.0   1000000         1000000.0           1323485   \n",
       "\n",
       "          free  price currency    size_in_KB   released  last_updated  \\\n",
       "845049    True   0.00      USD  20121.435744 2020-01-14  Jun 14, 2021   \n",
       "391472    True   0.00      USD  14336.000000 2020-02-07  Feb 07, 2020   \n",
       "771566   False   2.99      USD  12288.000000 2012-10-04  Jan 27, 2021   \n",
       "252450    True   0.00      USD   4608.000000 2019-03-16  Apr 14, 2021   \n",
       "609994    True   0.00      USD  57344.000000 2019-11-28  May 20, 2021   \n",
       "2134769   True   0.00      USD  25600.000000 2021-03-09  May 27, 2021   \n",
       "1479168   True   0.00      USD   3276.800000 2015-02-15  Dec 17, 2019   \n",
       "530856    True   0.00      USD  48128.000000 2017-08-13  Apr 19, 2021   \n",
       "2149894   True   0.00      USD  13312.000000 2017-06-25  Mar 28, 2021   \n",
       "1034070   True   0.00      USD  16384.000000 2019-11-14  Jun 10, 2021   \n",
       "\n",
       "        content_rating  ad_supported  in_app_purchases  price_in_usd  \\\n",
       "845049        Everyone         False             False          0.00   \n",
       "391472        Everyone          True             False          0.00   \n",
       "771566        Everyone         False             False          2.99   \n",
       "252450        Everyone         False             False          0.00   \n",
       "609994        Everyone         False             False          0.00   \n",
       "2134769       Everyone         False             False          0.00   \n",
       "1479168       Everyone         False             False          0.00   \n",
       "530856        Everyone          True              True          0.00   \n",
       "2149894           Teen          True              True          0.00   \n",
       "1034070     Mature 17+         False              True          0.00   \n",
       "\n",
       "        installs_category  type  \n",
       "845049           10K-100K  Free  \n",
       "391472             1K-10K  Free  \n",
       "771566           10K-100K  Paid  \n",
       "252450           10K-100K  Free  \n",
       "609994           10K-100K  Free  \n",
       "2134769           100K-1M  Free  \n",
       "1479168          10K-100K  Free  \n",
       "530856           10K-100K  Free  \n",
       "2149894          10K-100K  Free  \n",
       "1034070           100K-1M  Free  "
      ]
     },
     "execution_count": 96,
     "metadata": {},
     "output_type": "execute_result"
    }
   ],
   "source": [
    "top_10_rated_apps"
   ]
  },
  {
   "cell_type": "code",
   "execution_count": null,
   "id": "0223b158-fe63-450b-9aa7-382ede79b898",
   "metadata": {},
   "outputs": [],
   "source": []
  }
 ],
 "metadata": {
  "kernelspec": {
   "display_name": "Python 3 (ipykernel)",
   "language": "python",
   "name": "python3"
  },
  "language_info": {
   "codemirror_mode": {
    "name": "ipython",
    "version": 3
   },
   "file_extension": ".py",
   "mimetype": "text/x-python",
   "name": "python",
   "nbconvert_exporter": "python",
   "pygments_lexer": "ipython3",
   "version": "3.12.4"
  }
 },
 "nbformat": 4,
 "nbformat_minor": 5
}
